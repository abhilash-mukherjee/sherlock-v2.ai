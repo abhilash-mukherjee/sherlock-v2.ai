{
 "cells": [
  {
   "cell_type": "code",
   "execution_count": null,
   "id": "a0f4b75d",
   "metadata": {},
   "outputs": [],
   "source": [
    "import random\n",
    "import json\n",
    "from models.db_models import TemplateModel\n",
    "from llm_util import LLMProvider\n",
    "\n",
    "\n",
    "def generate_story_verse_analysis(llmProvider : LLMProvider, template: TemplateModel) -> str:\n",
    "\n",
    "    storyVerseAnalysisPrompt = template.storyVerseAnalysisPromptTemplate\n",
    "\n",
    "    storyExcerptExamples = template.storyExcerptsExamples\n",
    "    randomExcerpts = random.sample(storyExcerptExamples, min(3, len(storyExcerptExamples)))\n",
    "    print(randomExcerpts)\n",
    "\n",
    "\n",
    "    excerpts_str = json.dumps(randomExcerpts)\n",
    "    response_id = llmProvider.initiateResponse(storyVerseAnalysisPrompt)\n",
    "\n",
    "    print(f\"Submitted LLM request, response ID: {response_id}\")\n",
    "    response = llmProvider.getPooledResponse(response_id)\n",
    "    print(f\"Response: {response.output[0].content[0].text}\")\n",
    "    return response.output[0].content[0].text\n",
    "\n"
   ]
  },
  {
   "cell_type": "code",
   "execution_count": null,
   "id": "d26de266",
   "metadata": {},
   "outputs": [
    {
     "name": "stdout",
     "output_type": "stream",
     "text": [
      "['Example1']\n",
      "Submitted LLM request, response ID: resp_68bde90369bc819cbea516a305a9c7c806919db1cb3172a4\n",
      "Response: Hello! Yes, I'm doing well, thank you for asking. How can I assist you today?\n",
      "Job saved with ID: 68bde90b6d2b97872e34f473\n"
     ]
    }
   ],
   "source": [
    "from pymongo import MongoClient\n",
    "from models.db_models import TemplateModel, Job\n",
    "import os\n",
    "from dotenv import load_dotenv\n",
    "from llm_util import OpenAiLLMProvider\n",
    "\n",
    "\n",
    "if __name__ == \"__main__\":\n",
    "    llmProvider = OpenAiLLMProvider()\n",
    "    load_dotenv()\n",
    "    mongo_uri = os.getenv('MONGODB_URI')\n",
    "    client = MongoClient(mongo_uri)\n",
    "    db_name = os.getenv('MONGODB_DATABASE') or 'sherlock-v2'\n",
    "    db = client[db_name]\n",
    "    llmProvider = OpenAiLLMProvider()\n",
    "    template = db.prompt_templates.find_one({\"storyVerse\": os.getenv('STORY_VERSE')})\n",
    "    if template is None:\n",
    "        raise ValueError(\"No template found for the given storyVerse.\")\n",
    "    template = TemplateModel(**template)\n",
    "    ## create new job entry\n",
    "    job = Job(story_analysis=\"\")\n",
    "    \n",
    "    # STEP 1 - storyverse analysis\n",
    "    storyVerseAnalysis = generate_story_verse_analysis(llmProvider, template)\n",
    "    job.story_analysis = storyVerseAnalysis\n",
    "    job_id = db.jobs.insert_one(job.model_dump()).inserted_id\n",
    "    print(f\"Job saved with ID: {job_id}\")"
   ]
  }
 ],
 "metadata": {
  "kernelspec": {
   "display_name": "venv",
   "language": "python",
   "name": "python3"
  },
  "language_info": {
   "codemirror_mode": {
    "name": "ipython",
    "version": 3
   },
   "file_extension": ".py",
   "mimetype": "text/x-python",
   "name": "python",
   "nbconvert_exporter": "python",
   "pygments_lexer": "ipython3",
   "version": "3.13.5"
  }
 },
 "nbformat": 4,
 "nbformat_minor": 5
}
