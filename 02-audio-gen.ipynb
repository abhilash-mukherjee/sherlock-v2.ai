{
 "cells": [
  {
   "cell_type": "code",
   "execution_count": 23,
   "id": "jidzs6npd1",
   "metadata": {},
   "outputs": [],
   "source": [
    "import uuid\n",
    "from db_utils import DatabaseManager\n",
    "from text_chunking_util import SimpleTextChunkCreator\n",
    "from models.db_models import AudioChunk\n",
    "\n",
    "\n",
    "def saveChunksForJob(db_manager: DatabaseManager, job_id: str):\n",
    "    \"\"\"\n",
    "    Create audio chunks from job's firstDraft and save to database\n",
    "    \n",
    "    Args:\n",
    "        db_manager: Database manager instance\n",
    "        job_id: ID of the job to process\n",
    "    \"\"\"\n",
    "    # Fetch job\n",
    "    job = db_manager.get_job(job_id)\n",
    "    if not job:\n",
    "        raise ValueError(f\"Job with ID {job_id} not found\")\n",
    "    \n",
    "    # Check if audioChunks already exist (idempotent behavior)\n",
    "    if job.audioChunks and len(job.audioChunks) > 0:\n",
    "        print(f\"✓ Audio chunks already exist for job {job_id}\")\n",
    "        print(f\"  Existing chunks: {len(job.audioChunks)}\")\n",
    "        return job.audioChunks\n",
    "    \n",
    "    # Get firstDraft text\n",
    "    first_draft = job.firstDraft\n",
    "    if not first_draft:\n",
    "        raise ValueError(f\"Job {job_id} has no firstDraft content\")\n",
    "    \n",
    "    # Create chunks using SimpleTextChunkCreator\n",
    "    chunker = SimpleTextChunkCreator()\n",
    "    text_chunks = chunker.convertTextToChunks(first_draft, '\\n')\n",
    "    \n",
    "    # Convert to AudioChunk objects with unique IDs\n",
    "    audio_chunks = []\n",
    "    for index, chunk_text in enumerate(text_chunks):\n",
    "        chunk_id = str(uuid.uuid4())[:8]  # Short unique ID\n",
    "        \n",
    "        audio_chunk = AudioChunk(\n",
    "            chunkId=chunk_id,\n",
    "            text=chunk_text,\n",
    "            outputAudioFilePath=\"\"  # Will be populated during audio generation\n",
    "        )\n",
    "        audio_chunks.append(audio_chunk)\n",
    "    \n",
    "    # Update job with audio chunks\n",
    "    job.audioChunks = audio_chunks\n",
    "    db_manager.update_job_field(job_id, job)\n",
    "    \n",
    "    print(f\"✓ Created {len(audio_chunks)} audio chunks for job {job_id}\")\n",
    "    return audio_chunks"
   ]
  },
  {
   "cell_type": "code",
   "execution_count": 24,
   "id": "6gv632s6kqk",
   "metadata": {},
   "outputs": [],
   "source": [
    "import re\n",
    "from datetime import datetime\n",
    "from concurrent.futures import ThreadPoolExecutor, as_completed\n",
    "from tts_util import OpenAiTTSProvider\n",
    "from typing import Tuple, List\n",
    "from models.db_models import AudioChunk\n",
    "\n",
    "\n",
    "def convertTextChunksToAudio(job_id: str, db_manager: DatabaseManager) -> Tuple[List[AudioChunk], str]:\n",
    "    \"\"\"\n",
    "    Convert text chunks to audio files using parallel processing\n",
    "    \n",
    "    Args:\n",
    "        job_id: ID of the job to process\n",
    "        db_manager: Database manager instance\n",
    "        \n",
    "    Returns:\n",
    "        Tuple[List[AudioChunk], str]: (audio_chunks, folder_path)\n",
    "    \"\"\"\n",
    "    # Fetch job\n",
    "    job = db_manager.get_job(job_id)\n",
    "    if not job:\n",
    "        raise ValueError(f\"Job with ID {job_id} not found\")\n",
    "    \n",
    "    # Check if audioChunks array is populated\n",
    "    if not job.audioChunks or len(job.audioChunks) == 0:\n",
    "        raise ValueError(f\"Job {job_id} has no audio chunks to process\")\n",
    "    \n",
    "    # Create folder name from first chunk's text (always create for consistency)\n",
    "    first_chunk_text = job.audioChunks[0].text[:50]  # Limit to first 50 chars\n",
    "    # Clean text for folder name (remove special chars, keep alphanumeric and spaces)\n",
    "    clean_text = re.sub(r'[^\\w\\s-]', '', first_chunk_text).strip()\n",
    "    clean_text = re.sub(r'[-\\s]+', '_', clean_text)  # Replace spaces and hyphens with underscore\n",
    "    \n",
    "    # Create folder with YYYYMMDD_text format\n",
    "    date_str = datetime.now().strftime('%Y%m%d')\n",
    "    folder_name = f\"{date_str}_{clean_text}\"\n",
    "    folder_path = f\"./audio_outputs/audio_chunks/{folder_name}\"\n",
    "    \n",
    "    # Identify chunks that need audio generation\n",
    "    chunks_to_process = []\n",
    "    completed_count = 0\n",
    "    \n",
    "    for i, chunk in enumerate(job.audioChunks):\n",
    "        if chunk.outputAudioFilePath and chunk.outputAudioFilePath.strip():\n",
    "            completed_count += 1\n",
    "        else:\n",
    "            chunks_to_process.append((i, chunk))\n",
    "    \n",
    "    print(f\"Audio generation status for job {job_id}:\")\n",
    "    print(f\"  Already completed: {completed_count}\")\n",
    "    print(f\"  Needs processing: {len(chunks_to_process)}\")\n",
    "    print(f\"  Total chunks: {len(job.audioChunks)}\")\n",
    "    \n",
    "    # If all chunks are already completed, return early\n",
    "    if len(chunks_to_process) == 0:\n",
    "        print(f\"✓ All audio chunks already generated for job {job_id}\")\n",
    "        return job.audioChunks, folder_path\n",
    "    \n",
    "    print(f\"Creating audio files in folder: {folder_path}\")\n",
    "    \n",
    "    # Initialize TTS provider\n",
    "    tts_provider = OpenAiTTSProvider(max_retries=3, retry_delay=1.0)\n",
    "    \n",
    "    def process_chunk(index, audio_chunk):\n",
    "        \"\"\"Process a single audio chunk\"\"\"\n",
    "        try:\n",
    "            file_path = tts_provider.generate_speech(\n",
    "                voice=\"echo\",  # Default voice\n",
    "                instructions=\"Clear and engaging narration\",  # Default instructions\n",
    "                input_text=audio_chunk.text,\n",
    "                folder=folder_path,\n",
    "                chunk_index=index,\n",
    "                chunk_id=audio_chunk.chunkId\n",
    "            )\n",
    "            return index, file_path, None\n",
    "        except Exception as e:\n",
    "            return index, None, str(e)\n",
    "    \n",
    "    # Process only chunks that need audio generation\n",
    "    with ThreadPoolExecutor(max_workers=5) as executor:\n",
    "        # Submit only incomplete chunks\n",
    "        future_to_index = {\n",
    "            executor.submit(process_chunk, i, chunk): i \n",
    "            for i, chunk in chunks_to_process\n",
    "        }\n",
    "        \n",
    "        processed_count = 0\n",
    "        failed_count = 0\n",
    "        \n",
    "        # Process results as they complete\n",
    "        for future in as_completed(future_to_index):\n",
    "            index, file_path, error = future.result()\n",
    "            \n",
    "            if error:\n",
    "                print(f\"✗ Failed to process chunk {index}: {error}\")\n",
    "                failed_count += 1\n",
    "            else:\n",
    "                # Update the chunk with the file path\n",
    "                job.audioChunks[index].outputAudioFilePath = file_path\n",
    "                print(f\"✓ Processed chunk {index}: {file_path}\")\n",
    "                processed_count += 1\n",
    "    \n",
    "    # Update job in database\n",
    "    db_manager.update_job_field(job_id, job)\n",
    "    \n",
    "    print(f\"\\n✓ Audio generation completed!\")\n",
    "    print(f\"  Successfully processed: {processed_count}\")\n",
    "    print(f\"  Failed: {failed_count}\")\n",
    "    print(f\"  Previously completed: {completed_count}\")\n",
    "    print(f\"  Total chunks: {len(job.audioChunks)}\")\n",
    "    \n",
    "    return job.audioChunks, folder_path"
   ]
  },
  {
   "cell_type": "code",
   "execution_count": 25,
   "id": "rihy3fvnpjp",
   "metadata": {},
   "outputs": [],
   "source": [
    "import os\n",
    "import subprocess\n",
    "from typing import List\n",
    "\n",
    "\n",
    "def stitchAudioChunks(job_id: str, folder_path: str, db_manager: DatabaseManager, gap_seconds: float = 1.0) -> str:\n",
    "    \"\"\"\n",
    "    Stitch audio chunks into a single final audio file using FFmpeg\n",
    "    \n",
    "    Args:\n",
    "        job_id: ID of the job to process\n",
    "        folder_path: Path to folder containing audio chunk files\n",
    "        db_manager: Database manager instance\n",
    "        gap_seconds: Gap in seconds between audio chunks (default: 1.0)\n",
    "        \n",
    "    Returns:\n",
    "        str: Path to the final stitched audio file\n",
    "    \"\"\"\n",
    "    # Fetch job\n",
    "    job = db_manager.get_job(job_id)\n",
    "    if not job:\n",
    "        raise ValueError(f\"Job with ID {job_id} not found\")\n",
    "    \n",
    "    # Check if audioChunks array is populated\n",
    "    if not job.audioChunks or len(job.audioChunks) == 0:\n",
    "        raise ValueError(f\"Job {job_id} has no audio chunks to stitch\")\n",
    "    \n",
    "    # Check if all chunks have outputAudioFilePath\n",
    "    missing_audio_chunks = []\n",
    "    valid_audio_files = []\n",
    "    \n",
    "    for i, chunk in enumerate(job.audioChunks):\n",
    "        if not chunk.outputAudioFilePath or not chunk.outputAudioFilePath.strip():\n",
    "            missing_audio_chunks.append(i)\n",
    "        elif os.path.exists(chunk.outputAudioFilePath):\n",
    "            valid_audio_files.append(chunk.outputAudioFilePath)\n",
    "        else:\n",
    "            print(f\"⚠️  Audio file not found: {chunk.outputAudioFilePath}\")\n",
    "    \n",
    "    if missing_audio_chunks:\n",
    "        raise ValueError(f\"Job {job_id} has chunks without audio files at indices: {missing_audio_chunks}\")\n",
    "    \n",
    "    if not valid_audio_files:\n",
    "        raise ValueError(f\"No valid audio files found for job {job_id}\")\n",
    "    \n",
    "    print(f\"Stitching {len(valid_audio_files)} audio chunks for job {job_id}\")\n",
    "    print(f\"Gap between chunks: {gap_seconds} seconds\")\n",
    "    \n",
    "    # Create output directory\n",
    "    output_dir = \"./audio_outputs/final_audio\"\n",
    "    os.makedirs(output_dir, exist_ok=True)\n",
    "    \n",
    "    # Generate filename from folder path\n",
    "    folder_name = os.path.basename(folder_path.rstrip('/'))\n",
    "    final_filename = f\"{folder_name}.wav\"\n",
    "    final_file_path = os.path.join(output_dir, final_filename)\n",
    "    \n",
    "    try:\n",
    "        # Create a temporary file list for ffmpeg\n",
    "        temp_file_list = os.path.join(output_dir, f\"temp_filelist_{job_id}.txt\")\n",
    "        \n",
    "        with open(temp_file_list, 'w') as f:\n",
    "            for i, audio_file in enumerate(valid_audio_files):\n",
    "                # Add the audio file\n",
    "                f.write(f\"file '{os.path.abspath(audio_file)}'\\n\")\n",
    "                \n",
    "                # Add silence gap between files (except after the last file)\n",
    "                if i < len(valid_audio_files) - 1:\n",
    "                    # Create a temporary silence file for the gap\n",
    "                    silence_file = os.path.join(output_dir, f\"temp_silence_{job_id}.wav\")\n",
    "                    silence_cmd = [\n",
    "                        'ffmpeg', '-f', 'lavfi', '-i', f'anullsrc=r=44100:cl=stereo', \n",
    "                        '-t', str(gap_seconds), '-y', silence_file\n",
    "                    ]\n",
    "                    subprocess.run(silence_cmd, capture_output=True, check=True)\n",
    "                    f.write(f\"file '{os.path.abspath(silence_file)}'\\n\")\n",
    "        \n",
    "        # Use ffmpeg to concatenate all files\n",
    "        ffmpeg_cmd = [\n",
    "            'ffmpeg', '-f', 'concat', '-safe', '0', '-i', temp_file_list,\n",
    "            '-c', 'copy', '-y', final_file_path\n",
    "        ]\n",
    "        \n",
    "        print(f\"Running FFmpeg to stitch audio files...\")\n",
    "        result = subprocess.run(ffmpeg_cmd, capture_output=True, text=True)\n",
    "        \n",
    "        if result.returncode != 0:\n",
    "            raise Exception(f\"FFmpeg failed: {result.stderr}\")\n",
    "        \n",
    "        # Clean up temporary files\n",
    "        if os.path.exists(temp_file_list):\n",
    "            os.remove(temp_file_list)\n",
    "        \n",
    "        silence_file = os.path.join(output_dir, f\"temp_silence_{job_id}.wav\")\n",
    "        if os.path.exists(silence_file):\n",
    "            os.remove(silence_file)\n",
    "        \n",
    "        # Verify the output file was created\n",
    "        if not os.path.exists(final_file_path):\n",
    "            raise Exception(f\"Output file was not created: {final_file_path}\")\n",
    "        \n",
    "        # Update job with final audio path\n",
    "        job.finalAudioFilePath = final_file_path\n",
    "        db_manager.update_job_field(job_id, job)\n",
    "        \n",
    "        # Get file size for reporting\n",
    "        file_size = os.path.getsize(final_file_path)\n",
    "        \n",
    "        print(f\"\\n✓ Audio stitching completed!\")\n",
    "        print(f\"  Processed chunks: {len(valid_audio_files)}/{len(job.audioChunks)}\")\n",
    "        print(f\"  Final audio file size: {file_size / 1024 / 1024:.1f} MB\")\n",
    "        print(f\"  Final audio saved to: {final_file_path}\")\n",
    "        \n",
    "        return final_file_path\n",
    "        \n",
    "    except subprocess.CalledProcessError as e:\n",
    "        raise Exception(f\"FFmpeg command failed: {e}\")\n",
    "    except Exception as e:\n",
    "        raise Exception(f\"Audio stitching failed: {e}\")\n",
    "    finally:\n",
    "        # Cleanup temporary files in case of error\n",
    "        temp_file_list = os.path.join(output_dir, f\"temp_filelist_{job_id}.txt\")\n",
    "        if os.path.exists(temp_file_list):\n",
    "            os.remove(temp_file_list)\n",
    "        \n",
    "        silence_file = os.path.join(output_dir, f\"temp_silence_{job_id}.wav\")\n",
    "        if os.path.exists(silence_file):\n",
    "            os.remove(silence_file)"
   ]
  },
  {
   "cell_type": "code",
   "execution_count": 18,
   "id": "6c3dddbe",
   "metadata": {},
   "outputs": [
    {
     "name": "stderr",
     "output_type": "stream",
     "text": [
      "INFO:tts_util:Generating audio for chunk 1_test, attempt 1\n",
      "INFO:tts_util:Successfully generated audio: ./audio_outputs/001_test.wav\n"
     ]
    },
    {
     "name": "stdout",
     "output_type": "stream",
     "text": [
      "./audio_outputs/001_test.wav\n"
     ]
    }
   ],
   "source": [
    "# Test tts_util.py\n",
    "from tts_util import OpenAiTTSProvider\n",
    "\n",
    "ttsProvider = OpenAiTTSProvider()\n",
    "print(ttsProvider.generate_speech('echo', 'Calm and soothing', 'Hello, world! How is it going. I am Abhilash. This is a test audio. I am an entrepreneure. I like to build cool things. You mother fucker', './audio_outputs', 1, 'test'))"
   ]
  },
  {
   "cell_type": "code",
   "execution_count": 19,
   "id": "e738ceae",
   "metadata": {},
   "outputs": [
    {
     "name": "stdout",
     "output_type": "stream",
     "text": [
      "['Hey there. I am testing chunking logic.It should chunk based on new line characters.']\n"
     ]
    }
   ],
   "source": [
    "# Test chunk creation util\n",
    "from text_chunking_util import SimpleTextChunkCreator\n",
    "chunkCreator = SimpleTextChunkCreator()\n",
    "text = \"\"\"Hey there. I am testing chunking logic.It should chunk based on new line characters.\"\"\"\n",
    "chunks = chunkCreator.convertTextToChunks(text, \"\\n\")\n",
    "print(chunks)"
   ]
  },
  {
   "cell_type": "code",
   "execution_count": null,
   "id": "287qdbfry9h",
   "metadata": {},
   "outputs": [
    {
     "name": "stderr",
     "output_type": "stream",
     "text": [
      "INFO:tts_util:Generating audio for chunk 4_2332ad90, attempt 1\n",
      "INFO:tts_util:Generating audio for chunk 1_ee238105, attempt 1\n",
      "INFO:tts_util:Generating audio for chunk 0_0f6671d4, attempt 1\n",
      "INFO:tts_util:Generating audio for chunk 2_336bdcf2, attempt 1\n",
      "INFO:tts_util:Generating audio for chunk 3_7d0dcd67, attempt 1\n"
     ]
    },
    {
     "name": "stdout",
     "output_type": "stream",
     "text": [
      "=== STEP 1: Creating Audio Chunks ===\n",
      "✓ Created 180 audio chunks for job 68e0c9e2356de3c49a902ead\n",
      "Processed 180 chunks:\n",
      "  Chunk 1: ID=0f6671d4, Length=32 chars\n",
      "  Chunk 2: ID=ee238105, Length=738 chars\n",
      "  Chunk 3: ID=336bdcf2, Length=367 chars\n",
      "  Chunk 4: ID=7d0dcd67, Length=267 chars\n",
      "  Chunk 5: ID=2332ad90, Length=334 chars\n",
      "  Chunk 6: ID=9601774f, Length=260 chars\n",
      "  Chunk 7: ID=dc5e7df0, Length=102 chars\n",
      "  Chunk 8: ID=dc0d8d8b, Length=343 chars\n",
      "  Chunk 9: ID=a81a04c2, Length=155 chars\n",
      "  Chunk 10: ID=f01f58d3, Length=72 chars\n",
      "  Chunk 11: ID=643e98c2, Length=351 chars\n",
      "  Chunk 12: ID=25ba8a44, Length=457 chars\n",
      "  Chunk 13: ID=ad74e8b7, Length=158 chars\n",
      "  Chunk 14: ID=ddfa7aa3, Length=434 chars\n",
      "  Chunk 15: ID=7727600e, Length=214 chars\n",
      "  Chunk 16: ID=fc5acb51, Length=207 chars\n",
      "  Chunk 17: ID=4cc146ef, Length=219 chars\n",
      "  Chunk 18: ID=2ed41938, Length=130 chars\n",
      "  Chunk 19: ID=01f0b234, Length=386 chars\n",
      "  Chunk 20: ID=c42b9eb0, Length=28 chars\n",
      "  Chunk 21: ID=1f01ceb4, Length=27 chars\n",
      "  Chunk 22: ID=87a9b5a4, Length=82 chars\n",
      "  Chunk 23: ID=81e0a7e4, Length=101 chars\n",
      "  Chunk 24: ID=8cc1af99, Length=304 chars\n",
      "  Chunk 25: ID=38cface8, Length=508 chars\n",
      "  Chunk 26: ID=a6f1ba6c, Length=53 chars\n",
      "  Chunk 27: ID=269738cf, Length=129 chars\n",
      "  Chunk 28: ID=ba215477, Length=133 chars\n",
      "  Chunk 29: ID=62c669f3, Length=644 chars\n",
      "  Chunk 30: ID=0bd65810, Length=348 chars\n",
      "  Chunk 31: ID=ad9a5229, Length=93 chars\n",
      "  Chunk 32: ID=08653402, Length=121 chars\n",
      "  Chunk 33: ID=e184d623, Length=406 chars\n",
      "  Chunk 34: ID=a6771477, Length=231 chars\n",
      "  Chunk 35: ID=dbd66cff, Length=114 chars\n",
      "  Chunk 36: ID=2ee8530e, Length=149 chars\n",
      "  Chunk 37: ID=c204c590, Length=89 chars\n",
      "  Chunk 38: ID=899bfacc, Length=197 chars\n",
      "  Chunk 39: ID=e34e0692, Length=52 chars\n",
      "  Chunk 40: ID=9e25d106, Length=133 chars\n",
      "  Chunk 41: ID=728387f5, Length=309 chars\n",
      "  Chunk 42: ID=e3ff9542, Length=288 chars\n",
      "  Chunk 43: ID=8bf7d5ba, Length=45 chars\n",
      "  Chunk 44: ID=5ec82fb6, Length=512 chars\n",
      "  Chunk 45: ID=fb6fbb7d, Length=53 chars\n",
      "  Chunk 46: ID=088dc52f, Length=162 chars\n",
      "  Chunk 47: ID=5b2d2c5b, Length=308 chars\n",
      "  Chunk 48: ID=4e7e8d99, Length=52 chars\n",
      "  Chunk 49: ID=87e32d48, Length=152 chars\n",
      "  Chunk 50: ID=f33ffa2b, Length=95 chars\n",
      "  Chunk 51: ID=5f537650, Length=103 chars\n",
      "  Chunk 52: ID=104aee6f, Length=278 chars\n",
      "  Chunk 53: ID=91e3973a, Length=45 chars\n",
      "  Chunk 54: ID=a213d563, Length=228 chars\n",
      "  Chunk 55: ID=26b495a3, Length=148 chars\n",
      "  Chunk 56: ID=5a386bae, Length=39 chars\n",
      "  Chunk 57: ID=f1939193, Length=155 chars\n",
      "  Chunk 58: ID=0fec49e9, Length=469 chars\n",
      "  Chunk 59: ID=9cd16334, Length=211 chars\n",
      "  Chunk 60: ID=d2f7f447, Length=128 chars\n",
      "  Chunk 61: ID=a97bfbf5, Length=602 chars\n",
      "  Chunk 62: ID=a330e3c6, Length=24 chars\n",
      "  Chunk 63: ID=339a0bf6, Length=36 chars\n",
      "  Chunk 64: ID=8236b901, Length=218 chars\n",
      "  Chunk 65: ID=a9ea1bc8, Length=124 chars\n",
      "  Chunk 66: ID=43670bb7, Length=167 chars\n",
      "  Chunk 67: ID=c1e4c2e8, Length=82 chars\n",
      "  Chunk 68: ID=835c7e05, Length=372 chars\n",
      "  Chunk 69: ID=86980347, Length=75 chars\n",
      "  Chunk 70: ID=219f8df3, Length=297 chars\n",
      "  Chunk 71: ID=762922c5, Length=589 chars\n",
      "  Chunk 72: ID=c1623eed, Length=417 chars\n",
      "  Chunk 73: ID=1adff1eb, Length=272 chars\n",
      "  Chunk 74: ID=10c38b30, Length=270 chars\n",
      "  Chunk 75: ID=ce4a36c7, Length=242 chars\n",
      "  Chunk 76: ID=28b265af, Length=28 chars\n",
      "  Chunk 77: ID=45d42bba, Length=236 chars\n",
      "  Chunk 78: ID=1bc46a93, Length=250 chars\n",
      "  Chunk 79: ID=f04ce7da, Length=146 chars\n",
      "  Chunk 80: ID=8de97ce8, Length=163 chars\n",
      "  Chunk 81: ID=2808ac65, Length=132 chars\n",
      "  Chunk 82: ID=f815ee87, Length=15 chars\n",
      "  Chunk 83: ID=4c70379b, Length=221 chars\n",
      "  Chunk 84: ID=37d87f98, Length=183 chars\n",
      "  Chunk 85: ID=999d29fd, Length=53 chars\n",
      "  Chunk 86: ID=8c224dde, Length=147 chars\n",
      "  Chunk 87: ID=09e9942b, Length=495 chars\n",
      "  Chunk 88: ID=5b9b06a4, Length=360 chars\n",
      "  Chunk 89: ID=52f674f5, Length=83 chars\n",
      "  Chunk 90: ID=87523783, Length=145 chars\n",
      "  Chunk 91: ID=4d2ccc0e, Length=579 chars\n",
      "  Chunk 92: ID=cc4263b7, Length=617 chars\n",
      "  Chunk 93: ID=316445f1, Length=25 chars\n",
      "  Chunk 94: ID=cbbc1d5b, Length=82 chars\n",
      "  Chunk 95: ID=c1802b40, Length=303 chars\n",
      "  Chunk 96: ID=21627d18, Length=403 chars\n",
      "  Chunk 97: ID=5f6ba969, Length=156 chars\n",
      "  Chunk 98: ID=b27cc94c, Length=368 chars\n",
      "  Chunk 99: ID=4dc5987e, Length=264 chars\n",
      "  Chunk 100: ID=7912ed30, Length=84 chars\n",
      "  Chunk 101: ID=b5d878aa, Length=44 chars\n",
      "  Chunk 102: ID=e7299856, Length=98 chars\n",
      "  Chunk 103: ID=231a3d15, Length=344 chars\n",
      "  Chunk 104: ID=0bf49f94, Length=81 chars\n",
      "  Chunk 105: ID=85fc7361, Length=394 chars\n",
      "  Chunk 106: ID=a06c9f68, Length=131 chars\n",
      "  Chunk 107: ID=d0ff8e31, Length=331 chars\n",
      "  Chunk 108: ID=04236eec, Length=195 chars\n",
      "  Chunk 109: ID=28f94f99, Length=71 chars\n",
      "  Chunk 110: ID=90f75a16, Length=178 chars\n",
      "  Chunk 111: ID=9eec8667, Length=42 chars\n",
      "  Chunk 112: ID=50d10e84, Length=91 chars\n",
      "  Chunk 113: ID=4411004e, Length=294 chars\n",
      "  Chunk 114: ID=e7d65950, Length=45 chars\n",
      "  Chunk 115: ID=ddfa9645, Length=52 chars\n",
      "  Chunk 116: ID=15fa9dd8, Length=251 chars\n",
      "  Chunk 117: ID=1951865a, Length=306 chars\n",
      "  Chunk 118: ID=016c99f2, Length=305 chars\n",
      "  Chunk 119: ID=c28785be, Length=31 chars\n",
      "  Chunk 120: ID=ab5620ea, Length=198 chars\n",
      "  Chunk 121: ID=5ca92772, Length=445 chars\n",
      "  Chunk 122: ID=53830a74, Length=429 chars\n",
      "  Chunk 123: ID=e8bbf111, Length=60 chars\n",
      "  Chunk 124: ID=45275946, Length=175 chars\n",
      "  Chunk 125: ID=b1f2146a, Length=48 chars\n",
      "  Chunk 126: ID=fb0cb5da, Length=102 chars\n",
      "  Chunk 127: ID=4b46003c, Length=115 chars\n",
      "  Chunk 128: ID=aab64c5f, Length=139 chars\n",
      "  Chunk 129: ID=790327e6, Length=83 chars\n",
      "  Chunk 130: ID=5d4154fa, Length=368 chars\n",
      "  Chunk 131: ID=b8234a9f, Length=79 chars\n",
      "  Chunk 132: ID=bf070de4, Length=41 chars\n",
      "  Chunk 133: ID=c82cda18, Length=458 chars\n",
      "  Chunk 134: ID=9163c52c, Length=154 chars\n",
      "  Chunk 135: ID=e6ff91c9, Length=635 chars\n",
      "  Chunk 136: ID=c751ac1c, Length=233 chars\n",
      "  Chunk 137: ID=d8d74358, Length=353 chars\n",
      "  Chunk 138: ID=3ba9416e, Length=876 chars\n",
      "  Chunk 139: ID=26f1c28d, Length=308 chars\n",
      "  Chunk 140: ID=7b7f7491, Length=255 chars\n",
      "  Chunk 141: ID=989aef6f, Length=293 chars\n",
      "  Chunk 142: ID=12802966, Length=119 chars\n",
      "  Chunk 143: ID=51342f83, Length=116 chars\n",
      "  Chunk 144: ID=eda19407, Length=702 chars\n",
      "  Chunk 145: ID=ce9acc17, Length=556 chars\n",
      "  Chunk 146: ID=13e1024c, Length=86 chars\n",
      "  Chunk 147: ID=e3d61a5a, Length=204 chars\n",
      "  Chunk 148: ID=2e58f753, Length=287 chars\n",
      "  Chunk 149: ID=bcfc9122, Length=181 chars\n",
      "  Chunk 150: ID=dc5191be, Length=481 chars\n",
      "  Chunk 151: ID=84e605e2, Length=114 chars\n",
      "  Chunk 152: ID=b523a214, Length=194 chars\n",
      "  Chunk 153: ID=c6a81af1, Length=437 chars\n",
      "  Chunk 154: ID=9ae2c0a7, Length=121 chars\n",
      "  Chunk 155: ID=fb2b5124, Length=249 chars\n",
      "  Chunk 156: ID=f789238b, Length=83 chars\n",
      "  Chunk 157: ID=064e69d2, Length=500 chars\n",
      "  Chunk 158: ID=dd483d3f, Length=23 chars\n",
      "  Chunk 159: ID=2b3169ba, Length=500 chars\n",
      "  Chunk 160: ID=d0901f2c, Length=77 chars\n",
      "  Chunk 161: ID=b29a7c67, Length=165 chars\n",
      "  Chunk 162: ID=d80ff8ce, Length=288 chars\n",
      "  Chunk 163: ID=3de814cf, Length=370 chars\n",
      "  Chunk 164: ID=e4dea59f, Length=165 chars\n",
      "  Chunk 165: ID=40c799ea, Length=91 chars\n",
      "  Chunk 166: ID=60f84a71, Length=39 chars\n",
      "  Chunk 167: ID=dc9192bd, Length=18 chars\n",
      "  Chunk 168: ID=1eda044d, Length=423 chars\n",
      "  Chunk 169: ID=9f4caf7f, Length=547 chars\n",
      "  Chunk 170: ID=dedf476c, Length=226 chars\n",
      "  Chunk 171: ID=0c21d736, Length=201 chars\n",
      "  Chunk 172: ID=53509d5d, Length=76 chars\n",
      "  Chunk 173: ID=8863ea64, Length=478 chars\n",
      "  Chunk 174: ID=f741b014, Length=942 chars\n",
      "  Chunk 175: ID=3600f7b7, Length=657 chars\n",
      "  Chunk 176: ID=af5ef8cc, Length=199 chars\n",
      "  Chunk 177: ID=38e76379, Length=194 chars\n",
      "  Chunk 178: ID=8abad660, Length=68 chars\n",
      "  Chunk 179: ID=30840549, Length=175 chars\n",
      "  Chunk 180: ID=5af7e125, Length=1099 chars\n",
      "\n",
      "=== STEP 2: Converting Chunks to Audio ===\n",
      "Audio generation status for job 68e0c9e2356de3c49a902ead:\n",
      "  Already completed: 0\n",
      "  Needs processing: 180\n",
      "  Total chunks: 180\n",
      "Creating audio files in folder: ./audio_outputs/audio_chunks/20251004_The_Adventure_of_the_Hollow_Cane\n"
     ]
    },
    {
     "name": "stderr",
     "output_type": "stream",
     "text": [
      "INFO:tts_util:Successfully generated audio: ./audio_outputs/audio_chunks/20251004_The_Adventure_of_the_Hollow_Cane/000_0f6671d4.wav\n",
      "INFO:tts_util:Generating audio for chunk 5_9601774f, attempt 1\n"
     ]
    },
    {
     "name": "stdout",
     "output_type": "stream",
     "text": [
      "✓ Processed chunk 0: ./audio_outputs/audio_chunks/20251004_The_Adventure_of_the_Hollow_Cane/000_0f6671d4.wav\n"
     ]
    },
    {
     "name": "stderr",
     "output_type": "stream",
     "text": [
      "INFO:tts_util:Successfully generated audio: ./audio_outputs/audio_chunks/20251004_The_Adventure_of_the_Hollow_Cane/003_7d0dcd67.wav\n",
      "INFO:tts_util:Generating audio for chunk 6_dc5e7df0, attempt 1\n"
     ]
    },
    {
     "name": "stdout",
     "output_type": "stream",
     "text": [
      "✓ Processed chunk 3: ./audio_outputs/audio_chunks/20251004_The_Adventure_of_the_Hollow_Cane/003_7d0dcd67.wav\n"
     ]
    },
    {
     "name": "stderr",
     "output_type": "stream",
     "text": [
      "INFO:tts_util:Successfully generated audio: ./audio_outputs/audio_chunks/20251004_The_Adventure_of_the_Hollow_Cane/004_2332ad90.wav\n",
      "INFO:tts_util:Generating audio for chunk 7_dc0d8d8b, attempt 1\n",
      "INFO:tts_util:Successfully generated audio: ./audio_outputs/audio_chunks/20251004_The_Adventure_of_the_Hollow_Cane/002_336bdcf2.wav\n",
      "INFO:tts_util:Generating audio for chunk 8_a81a04c2, attempt 1\n"
     ]
    },
    {
     "name": "stdout",
     "output_type": "stream",
     "text": [
      "✓ Processed chunk 4: ./audio_outputs/audio_chunks/20251004_The_Adventure_of_the_Hollow_Cane/004_2332ad90.wav\n",
      "✓ Processed chunk 2: ./audio_outputs/audio_chunks/20251004_The_Adventure_of_the_Hollow_Cane/002_336bdcf2.wav\n"
     ]
    },
    {
     "name": "stderr",
     "output_type": "stream",
     "text": [
      "INFO:tts_util:Successfully generated audio: ./audio_outputs/audio_chunks/20251004_The_Adventure_of_the_Hollow_Cane/006_dc5e7df0.wav\n",
      "INFO:tts_util:Generating audio for chunk 9_f01f58d3, attempt 1\n"
     ]
    },
    {
     "name": "stdout",
     "output_type": "stream",
     "text": [
      "✓ Processed chunk 6: ./audio_outputs/audio_chunks/20251004_The_Adventure_of_the_Hollow_Cane/006_dc5e7df0.wav\n"
     ]
    },
    {
     "name": "stderr",
     "output_type": "stream",
     "text": [
      "INFO:tts_util:Successfully generated audio: ./audio_outputs/audio_chunks/20251004_The_Adventure_of_the_Hollow_Cane/005_9601774f.wav\n",
      "INFO:tts_util:Generating audio for chunk 10_643e98c2, attempt 1\n"
     ]
    },
    {
     "name": "stdout",
     "output_type": "stream",
     "text": [
      "✓ Processed chunk 5: ./audio_outputs/audio_chunks/20251004_The_Adventure_of_the_Hollow_Cane/005_9601774f.wav\n"
     ]
    },
    {
     "name": "stderr",
     "output_type": "stream",
     "text": [
      "INFO:tts_util:Successfully generated audio: ./audio_outputs/audio_chunks/20251004_The_Adventure_of_the_Hollow_Cane/008_a81a04c2.wav\n",
      "INFO:tts_util:Generating audio for chunk 11_25ba8a44, attempt 1\n",
      "INFO:tts_util:Successfully generated audio: ./audio_outputs/audio_chunks/20251004_The_Adventure_of_the_Hollow_Cane/009_f01f58d3.wav\n",
      "INFO:tts_util:Generating audio for chunk 12_ad74e8b7, attempt 1\n"
     ]
    },
    {
     "name": "stdout",
     "output_type": "stream",
     "text": [
      "✓ Processed chunk 8: ./audio_outputs/audio_chunks/20251004_The_Adventure_of_the_Hollow_Cane/008_a81a04c2.wav\n",
      "✓ Processed chunk 9: ./audio_outputs/audio_chunks/20251004_The_Adventure_of_the_Hollow_Cane/009_f01f58d3.wav\n"
     ]
    },
    {
     "name": "stderr",
     "output_type": "stream",
     "text": [
      "INFO:tts_util:Successfully generated audio: ./audio_outputs/audio_chunks/20251004_The_Adventure_of_the_Hollow_Cane/001_ee238105.wav\n",
      "INFO:tts_util:Generating audio for chunk 13_ddfa7aa3, attempt 1\n"
     ]
    },
    {
     "name": "stdout",
     "output_type": "stream",
     "text": [
      "✓ Processed chunk 1: ./audio_outputs/audio_chunks/20251004_The_Adventure_of_the_Hollow_Cane/001_ee238105.wav\n"
     ]
    },
    {
     "name": "stderr",
     "output_type": "stream",
     "text": [
      "INFO:tts_util:Successfully generated audio: ./audio_outputs/audio_chunks/20251004_The_Adventure_of_the_Hollow_Cane/007_dc0d8d8b.wav\n",
      "INFO:tts_util:Generating audio for chunk 14_7727600e, attempt 1\n",
      "INFO:tts_util:Successfully generated audio: ./audio_outputs/audio_chunks/20251004_The_Adventure_of_the_Hollow_Cane/012_ad74e8b7.wav\n",
      "INFO:tts_util:Generating audio for chunk 15_fc5acb51, attempt 1\n"
     ]
    },
    {
     "name": "stdout",
     "output_type": "stream",
     "text": [
      "✓ Processed chunk 7: ./audio_outputs/audio_chunks/20251004_The_Adventure_of_the_Hollow_Cane/007_dc0d8d8b.wav\n",
      "✓ Processed chunk 12: ./audio_outputs/audio_chunks/20251004_The_Adventure_of_the_Hollow_Cane/012_ad74e8b7.wav\n"
     ]
    },
    {
     "name": "stderr",
     "output_type": "stream",
     "text": [
      "INFO:tts_util:Successfully generated audio: ./audio_outputs/audio_chunks/20251004_The_Adventure_of_the_Hollow_Cane/010_643e98c2.wav\n",
      "INFO:tts_util:Generating audio for chunk 16_4cc146ef, attempt 1\n"
     ]
    },
    {
     "name": "stdout",
     "output_type": "stream",
     "text": [
      "✓ Processed chunk 10: ./audio_outputs/audio_chunks/20251004_The_Adventure_of_the_Hollow_Cane/010_643e98c2.wav\n"
     ]
    },
    {
     "name": "stderr",
     "output_type": "stream",
     "text": [
      "INFO:tts_util:Successfully generated audio: ./audio_outputs/audio_chunks/20251004_The_Adventure_of_the_Hollow_Cane/014_7727600e.wav\n",
      "INFO:tts_util:Generating audio for chunk 17_2ed41938, attempt 1\n",
      "INFO:tts_util:Successfully generated audio: ./audio_outputs/audio_chunks/20251004_The_Adventure_of_the_Hollow_Cane/015_fc5acb51.wav\n",
      "INFO:tts_util:Generating audio for chunk 18_01f0b234, attempt 1\n"
     ]
    },
    {
     "name": "stdout",
     "output_type": "stream",
     "text": [
      "✓ Processed chunk 14: ./audio_outputs/audio_chunks/20251004_The_Adventure_of_the_Hollow_Cane/014_7727600e.wav\n",
      "✓ Processed chunk 15: ./audio_outputs/audio_chunks/20251004_The_Adventure_of_the_Hollow_Cane/015_fc5acb51.wav\n"
     ]
    },
    {
     "name": "stderr",
     "output_type": "stream",
     "text": [
      "INFO:tts_util:Successfully generated audio: ./audio_outputs/audio_chunks/20251004_The_Adventure_of_the_Hollow_Cane/011_25ba8a44.wav\n",
      "INFO:tts_util:Generating audio for chunk 19_c42b9eb0, attempt 1\n"
     ]
    },
    {
     "name": "stdout",
     "output_type": "stream",
     "text": [
      "✓ Processed chunk 11: ./audio_outputs/audio_chunks/20251004_The_Adventure_of_the_Hollow_Cane/011_25ba8a44.wav\n"
     ]
    },
    {
     "name": "stderr",
     "output_type": "stream",
     "text": [
      "INFO:tts_util:Successfully generated audio: ./audio_outputs/audio_chunks/20251004_The_Adventure_of_the_Hollow_Cane/016_4cc146ef.wav\n",
      "INFO:tts_util:Generating audio for chunk 20_1f01ceb4, attempt 1\n",
      "INFO:tts_util:Successfully generated audio: ./audio_outputs/audio_chunks/20251004_The_Adventure_of_the_Hollow_Cane/013_ddfa7aa3.wav\n",
      "INFO:tts_util:Generating audio for chunk 21_87a9b5a4, attempt 1\n"
     ]
    },
    {
     "name": "stdout",
     "output_type": "stream",
     "text": [
      "✓ Processed chunk 16: ./audio_outputs/audio_chunks/20251004_The_Adventure_of_the_Hollow_Cane/016_4cc146ef.wav\n",
      "✓ Processed chunk 13: ./audio_outputs/audio_chunks/20251004_The_Adventure_of_the_Hollow_Cane/013_ddfa7aa3.wav\n"
     ]
    },
    {
     "name": "stderr",
     "output_type": "stream",
     "text": [
      "INFO:tts_util:Successfully generated audio: ./audio_outputs/audio_chunks/20251004_The_Adventure_of_the_Hollow_Cane/017_2ed41938.wav\n",
      "INFO:tts_util:Generating audio for chunk 22_81e0a7e4, attempt 1\n"
     ]
    },
    {
     "name": "stdout",
     "output_type": "stream",
     "text": [
      "✓ Processed chunk 17: ./audio_outputs/audio_chunks/20251004_The_Adventure_of_the_Hollow_Cane/017_2ed41938.wav\n"
     ]
    },
    {
     "name": "stderr",
     "output_type": "stream",
     "text": [
      "INFO:tts_util:Successfully generated audio: ./audio_outputs/audio_chunks/20251004_The_Adventure_of_the_Hollow_Cane/020_1f01ceb4.wav\n",
      "INFO:tts_util:Generating audio for chunk 23_8cc1af99, attempt 1\n"
     ]
    },
    {
     "name": "stdout",
     "output_type": "stream",
     "text": [
      "✓ Processed chunk 20: ./audio_outputs/audio_chunks/20251004_The_Adventure_of_the_Hollow_Cane/020_1f01ceb4.wav\n"
     ]
    },
    {
     "name": "stderr",
     "output_type": "stream",
     "text": [
      "INFO:tts_util:Successfully generated audio: ./audio_outputs/audio_chunks/20251004_The_Adventure_of_the_Hollow_Cane/019_c42b9eb0.wav\n",
      "INFO:tts_util:Generating audio for chunk 24_38cface8, attempt 1\n"
     ]
    },
    {
     "name": "stdout",
     "output_type": "stream",
     "text": [
      "✓ Processed chunk 19: ./audio_outputs/audio_chunks/20251004_The_Adventure_of_the_Hollow_Cane/019_c42b9eb0.wav\n"
     ]
    },
    {
     "name": "stderr",
     "output_type": "stream",
     "text": [
      "INFO:tts_util:Successfully generated audio: ./audio_outputs/audio_chunks/20251004_The_Adventure_of_the_Hollow_Cane/021_87a9b5a4.wav\n",
      "INFO:tts_util:Generating audio for chunk 25_a6f1ba6c, attempt 1\n"
     ]
    },
    {
     "name": "stdout",
     "output_type": "stream",
     "text": [
      "✓ Processed chunk 21: ./audio_outputs/audio_chunks/20251004_The_Adventure_of_the_Hollow_Cane/021_87a9b5a4.wav\n"
     ]
    },
    {
     "name": "stderr",
     "output_type": "stream",
     "text": [
      "INFO:tts_util:Successfully generated audio: ./audio_outputs/audio_chunks/20251004_The_Adventure_of_the_Hollow_Cane/018_01f0b234.wav\n",
      "INFO:tts_util:Generating audio for chunk 26_269738cf, attempt 1\n"
     ]
    },
    {
     "name": "stdout",
     "output_type": "stream",
     "text": [
      "✓ Processed chunk 18: ./audio_outputs/audio_chunks/20251004_The_Adventure_of_the_Hollow_Cane/018_01f0b234.wav\n"
     ]
    },
    {
     "name": "stderr",
     "output_type": "stream",
     "text": [
      "INFO:tts_util:Successfully generated audio: ./audio_outputs/audio_chunks/20251004_The_Adventure_of_the_Hollow_Cane/025_a6f1ba6c.wav\n",
      "INFO:tts_util:Generating audio for chunk 27_ba215477, attempt 1\n"
     ]
    },
    {
     "name": "stdout",
     "output_type": "stream",
     "text": [
      "✓ Processed chunk 25: ./audio_outputs/audio_chunks/20251004_The_Adventure_of_the_Hollow_Cane/025_a6f1ba6c.wav\n"
     ]
    },
    {
     "name": "stderr",
     "output_type": "stream",
     "text": [
      "INFO:tts_util:Successfully generated audio: ./audio_outputs/audio_chunks/20251004_The_Adventure_of_the_Hollow_Cane/022_81e0a7e4.wav\n",
      "INFO:tts_util:Generating audio for chunk 28_62c669f3, attempt 1\n"
     ]
    },
    {
     "name": "stdout",
     "output_type": "stream",
     "text": [
      "✓ Processed chunk 22: ./audio_outputs/audio_chunks/20251004_The_Adventure_of_the_Hollow_Cane/022_81e0a7e4.wav\n"
     ]
    },
    {
     "name": "stderr",
     "output_type": "stream",
     "text": [
      "INFO:tts_util:Successfully generated audio: ./audio_outputs/audio_chunks/20251004_The_Adventure_of_the_Hollow_Cane/026_269738cf.wav\n",
      "INFO:tts_util:Generating audio for chunk 29_0bd65810, attempt 1\n"
     ]
    },
    {
     "name": "stdout",
     "output_type": "stream",
     "text": [
      "✓ Processed chunk 26: ./audio_outputs/audio_chunks/20251004_The_Adventure_of_the_Hollow_Cane/026_269738cf.wav\n"
     ]
    },
    {
     "name": "stderr",
     "output_type": "stream",
     "text": [
      "INFO:tts_util:Successfully generated audio: ./audio_outputs/audio_chunks/20251004_The_Adventure_of_the_Hollow_Cane/023_8cc1af99.wav\n",
      "INFO:tts_util:Generating audio for chunk 30_ad9a5229, attempt 1\n"
     ]
    },
    {
     "name": "stdout",
     "output_type": "stream",
     "text": [
      "✓ Processed chunk 23: ./audio_outputs/audio_chunks/20251004_The_Adventure_of_the_Hollow_Cane/023_8cc1af99.wav\n"
     ]
    },
    {
     "name": "stderr",
     "output_type": "stream",
     "text": [
      "INFO:tts_util:Successfully generated audio: ./audio_outputs/audio_chunks/20251004_The_Adventure_of_the_Hollow_Cane/027_ba215477.wav\n",
      "INFO:tts_util:Generating audio for chunk 31_08653402, attempt 1\n"
     ]
    },
    {
     "name": "stdout",
     "output_type": "stream",
     "text": [
      "✓ Processed chunk 27: ./audio_outputs/audio_chunks/20251004_The_Adventure_of_the_Hollow_Cane/027_ba215477.wav\n"
     ]
    },
    {
     "name": "stderr",
     "output_type": "stream",
     "text": [
      "INFO:tts_util:Successfully generated audio: ./audio_outputs/audio_chunks/20251004_The_Adventure_of_the_Hollow_Cane/030_ad9a5229.wav\n",
      "INFO:tts_util:Generating audio for chunk 32_e184d623, attempt 1\n"
     ]
    },
    {
     "name": "stdout",
     "output_type": "stream",
     "text": [
      "✓ Processed chunk 30: ./audio_outputs/audio_chunks/20251004_The_Adventure_of_the_Hollow_Cane/030_ad9a5229.wav\n"
     ]
    },
    {
     "name": "stderr",
     "output_type": "stream",
     "text": [
      "INFO:tts_util:Successfully generated audio: ./audio_outputs/audio_chunks/20251004_The_Adventure_of_the_Hollow_Cane/031_08653402.wav\n",
      "INFO:tts_util:Generating audio for chunk 33_a6771477, attempt 1\n",
      "INFO:tts_util:Successfully generated audio: ./audio_outputs/audio_chunks/20251004_The_Adventure_of_the_Hollow_Cane/024_38cface8.wav\n",
      "INFO:tts_util:Generating audio for chunk 34_dbd66cff, attempt 1\n"
     ]
    },
    {
     "name": "stdout",
     "output_type": "stream",
     "text": [
      "✓ Processed chunk 31: ./audio_outputs/audio_chunks/20251004_The_Adventure_of_the_Hollow_Cane/031_08653402.wav\n",
      "✓ Processed chunk 24: ./audio_outputs/audio_chunks/20251004_The_Adventure_of_the_Hollow_Cane/024_38cface8.wav\n"
     ]
    },
    {
     "name": "stderr",
     "output_type": "stream",
     "text": [
      "INFO:tts_util:Successfully generated audio: ./audio_outputs/audio_chunks/20251004_The_Adventure_of_the_Hollow_Cane/029_0bd65810.wav\n",
      "INFO:tts_util:Generating audio for chunk 35_2ee8530e, attempt 1\n"
     ]
    },
    {
     "name": "stdout",
     "output_type": "stream",
     "text": [
      "✓ Processed chunk 29: ./audio_outputs/audio_chunks/20251004_The_Adventure_of_the_Hollow_Cane/029_0bd65810.wav\n"
     ]
    },
    {
     "name": "stderr",
     "output_type": "stream",
     "text": [
      "INFO:tts_util:Successfully generated audio: ./audio_outputs/audio_chunks/20251004_The_Adventure_of_the_Hollow_Cane/034_dbd66cff.wav\n",
      "INFO:tts_util:Generating audio for chunk 36_c204c590, attempt 1\n"
     ]
    },
    {
     "name": "stdout",
     "output_type": "stream",
     "text": [
      "✓ Processed chunk 34: ./audio_outputs/audio_chunks/20251004_The_Adventure_of_the_Hollow_Cane/034_dbd66cff.wav\n"
     ]
    },
    {
     "name": "stderr",
     "output_type": "stream",
     "text": [
      "INFO:tts_util:Successfully generated audio: ./audio_outputs/audio_chunks/20251004_The_Adventure_of_the_Hollow_Cane/033_a6771477.wav\n",
      "INFO:tts_util:Generating audio for chunk 37_899bfacc, attempt 1\n"
     ]
    },
    {
     "name": "stdout",
     "output_type": "stream",
     "text": [
      "✓ Processed chunk 33: ./audio_outputs/audio_chunks/20251004_The_Adventure_of_the_Hollow_Cane/033_a6771477.wav\n"
     ]
    },
    {
     "name": "stderr",
     "output_type": "stream",
     "text": [
      "INFO:tts_util:Successfully generated audio: ./audio_outputs/audio_chunks/20251004_The_Adventure_of_the_Hollow_Cane/028_62c669f3.wav\n",
      "INFO:tts_util:Generating audio for chunk 38_e34e0692, attempt 1\n",
      "INFO:tts_util:Successfully generated audio: ./audio_outputs/audio_chunks/20251004_The_Adventure_of_the_Hollow_Cane/036_c204c590.wav\n",
      "INFO:tts_util:Generating audio for chunk 39_9e25d106, attempt 1\n"
     ]
    },
    {
     "name": "stdout",
     "output_type": "stream",
     "text": [
      "✓ Processed chunk 28: ./audio_outputs/audio_chunks/20251004_The_Adventure_of_the_Hollow_Cane/028_62c669f3.wav\n",
      "✓ Processed chunk 36: ./audio_outputs/audio_chunks/20251004_The_Adventure_of_the_Hollow_Cane/036_c204c590.wav\n"
     ]
    },
    {
     "name": "stderr",
     "output_type": "stream",
     "text": [
      "INFO:tts_util:Successfully generated audio: ./audio_outputs/audio_chunks/20251004_The_Adventure_of_the_Hollow_Cane/035_2ee8530e.wav\n",
      "INFO:tts_util:Generating audio for chunk 40_728387f5, attempt 1\n"
     ]
    },
    {
     "name": "stdout",
     "output_type": "stream",
     "text": [
      "✓ Processed chunk 35: ./audio_outputs/audio_chunks/20251004_The_Adventure_of_the_Hollow_Cane/035_2ee8530e.wav\n"
     ]
    },
    {
     "name": "stderr",
     "output_type": "stream",
     "text": [
      "INFO:tts_util:Successfully generated audio: ./audio_outputs/audio_chunks/20251004_The_Adventure_of_the_Hollow_Cane/038_e34e0692.wav\n",
      "INFO:tts_util:Generating audio for chunk 41_e3ff9542, attempt 1\n",
      "INFO:tts_util:Successfully generated audio: ./audio_outputs/audio_chunks/20251004_The_Adventure_of_the_Hollow_Cane/037_899bfacc.wav\n",
      "INFO:tts_util:Generating audio for chunk 42_8bf7d5ba, attempt 1\n"
     ]
    },
    {
     "name": "stdout",
     "output_type": "stream",
     "text": [
      "✓ Processed chunk 38: ./audio_outputs/audio_chunks/20251004_The_Adventure_of_the_Hollow_Cane/038_e34e0692.wav\n",
      "✓ Processed chunk 37: ./audio_outputs/audio_chunks/20251004_The_Adventure_of_the_Hollow_Cane/037_899bfacc.wav\n"
     ]
    },
    {
     "name": "stderr",
     "output_type": "stream",
     "text": [
      "INFO:tts_util:Successfully generated audio: ./audio_outputs/audio_chunks/20251004_The_Adventure_of_the_Hollow_Cane/032_e184d623.wav\n",
      "INFO:tts_util:Generating audio for chunk 43_5ec82fb6, attempt 1\n",
      "INFO:tts_util:Successfully generated audio: ./audio_outputs/audio_chunks/20251004_The_Adventure_of_the_Hollow_Cane/039_9e25d106.wav\n",
      "INFO:tts_util:Generating audio for chunk 44_fb6fbb7d, attempt 1\n"
     ]
    },
    {
     "name": "stdout",
     "output_type": "stream",
     "text": [
      "✓ Processed chunk 32: ./audio_outputs/audio_chunks/20251004_The_Adventure_of_the_Hollow_Cane/032_e184d623.wav\n",
      "✓ Processed chunk 39: ./audio_outputs/audio_chunks/20251004_The_Adventure_of_the_Hollow_Cane/039_9e25d106.wav\n"
     ]
    },
    {
     "name": "stderr",
     "output_type": "stream",
     "text": [
      "INFO:tts_util:Successfully generated audio: ./audio_outputs/audio_chunks/20251004_The_Adventure_of_the_Hollow_Cane/042_8bf7d5ba.wav\n",
      "INFO:tts_util:Generating audio for chunk 45_088dc52f, attempt 1\n"
     ]
    },
    {
     "name": "stdout",
     "output_type": "stream",
     "text": [
      "✓ Processed chunk 42: ./audio_outputs/audio_chunks/20251004_The_Adventure_of_the_Hollow_Cane/042_8bf7d5ba.wav\n"
     ]
    },
    {
     "name": "stderr",
     "output_type": "stream",
     "text": [
      "INFO:tts_util:Successfully generated audio: ./audio_outputs/audio_chunks/20251004_The_Adventure_of_the_Hollow_Cane/040_728387f5.wav\n",
      "INFO:tts_util:Generating audio for chunk 46_5b2d2c5b, attempt 1\n"
     ]
    },
    {
     "name": "stdout",
     "output_type": "stream",
     "text": [
      "✓ Processed chunk 40: ./audio_outputs/audio_chunks/20251004_The_Adventure_of_the_Hollow_Cane/040_728387f5.wav\n"
     ]
    },
    {
     "name": "stderr",
     "output_type": "stream",
     "text": [
      "INFO:tts_util:Successfully generated audio: ./audio_outputs/audio_chunks/20251004_The_Adventure_of_the_Hollow_Cane/044_fb6fbb7d.wav\n",
      "INFO:tts_util:Generating audio for chunk 47_4e7e8d99, attempt 1\n"
     ]
    },
    {
     "name": "stdout",
     "output_type": "stream",
     "text": [
      "✓ Processed chunk 44: ./audio_outputs/audio_chunks/20251004_The_Adventure_of_the_Hollow_Cane/044_fb6fbb7d.wav\n"
     ]
    },
    {
     "name": "stderr",
     "output_type": "stream",
     "text": [
      "INFO:tts_util:Successfully generated audio: ./audio_outputs/audio_chunks/20251004_The_Adventure_of_the_Hollow_Cane/041_e3ff9542.wav\n",
      "INFO:tts_util:Generating audio for chunk 48_87e32d48, attempt 1\n",
      "INFO:tts_util:Successfully generated audio: ./audio_outputs/audio_chunks/20251004_The_Adventure_of_the_Hollow_Cane/045_088dc52f.wav\n",
      "INFO:tts_util:Generating audio for chunk 49_f33ffa2b, attempt 1\n"
     ]
    },
    {
     "name": "stdout",
     "output_type": "stream",
     "text": [
      "✓ Processed chunk 41: ./audio_outputs/audio_chunks/20251004_The_Adventure_of_the_Hollow_Cane/041_e3ff9542.wav\n",
      "✓ Processed chunk 45: ./audio_outputs/audio_chunks/20251004_The_Adventure_of_the_Hollow_Cane/045_088dc52f.wav\n"
     ]
    },
    {
     "name": "stderr",
     "output_type": "stream",
     "text": [
      "INFO:tts_util:Successfully generated audio: ./audio_outputs/audio_chunks/20251004_The_Adventure_of_the_Hollow_Cane/047_4e7e8d99.wav\n",
      "INFO:tts_util:Generating audio for chunk 50_5f537650, attempt 1\n"
     ]
    },
    {
     "name": "stdout",
     "output_type": "stream",
     "text": [
      "✓ Processed chunk 47: ./audio_outputs/audio_chunks/20251004_The_Adventure_of_the_Hollow_Cane/047_4e7e8d99.wav\n"
     ]
    },
    {
     "name": "stderr",
     "output_type": "stream",
     "text": [
      "INFO:tts_util:Successfully generated audio: ./audio_outputs/audio_chunks/20251004_The_Adventure_of_the_Hollow_Cane/049_f33ffa2b.wav\n",
      "INFO:tts_util:Generating audio for chunk 51_104aee6f, attempt 1\n"
     ]
    },
    {
     "name": "stdout",
     "output_type": "stream",
     "text": [
      "✓ Processed chunk 49: ./audio_outputs/audio_chunks/20251004_The_Adventure_of_the_Hollow_Cane/049_f33ffa2b.wav\n"
     ]
    },
    {
     "name": "stderr",
     "output_type": "stream",
     "text": [
      "INFO:tts_util:Successfully generated audio: ./audio_outputs/audio_chunks/20251004_The_Adventure_of_the_Hollow_Cane/048_87e32d48.wav\n",
      "INFO:tts_util:Generating audio for chunk 52_91e3973a, attempt 1\n"
     ]
    },
    {
     "name": "stdout",
     "output_type": "stream",
     "text": [
      "✓ Processed chunk 48: ./audio_outputs/audio_chunks/20251004_The_Adventure_of_the_Hollow_Cane/048_87e32d48.wav\n"
     ]
    },
    {
     "name": "stderr",
     "output_type": "stream",
     "text": [
      "INFO:tts_util:Successfully generated audio: ./audio_outputs/audio_chunks/20251004_The_Adventure_of_the_Hollow_Cane/046_5b2d2c5b.wav\n",
      "INFO:tts_util:Generating audio for chunk 53_a213d563, attempt 1\n"
     ]
    },
    {
     "name": "stdout",
     "output_type": "stream",
     "text": [
      "✓ Processed chunk 46: ./audio_outputs/audio_chunks/20251004_The_Adventure_of_the_Hollow_Cane/046_5b2d2c5b.wav\n"
     ]
    },
    {
     "name": "stderr",
     "output_type": "stream",
     "text": [
      "INFO:tts_util:Successfully generated audio: ./audio_outputs/audio_chunks/20251004_The_Adventure_of_the_Hollow_Cane/052_91e3973a.wav\n",
      "INFO:tts_util:Generating audio for chunk 54_26b495a3, attempt 1\n"
     ]
    },
    {
     "name": "stdout",
     "output_type": "stream",
     "text": [
      "✓ Processed chunk 52: ./audio_outputs/audio_chunks/20251004_The_Adventure_of_the_Hollow_Cane/052_91e3973a.wav\n"
     ]
    },
    {
     "name": "stderr",
     "output_type": "stream",
     "text": [
      "INFO:tts_util:Successfully generated audio: ./audio_outputs/audio_chunks/20251004_The_Adventure_of_the_Hollow_Cane/043_5ec82fb6.wav\n",
      "INFO:tts_util:Generating audio for chunk 55_5a386bae, attempt 1\n",
      "INFO:tts_util:Successfully generated audio: ./audio_outputs/audio_chunks/20251004_The_Adventure_of_the_Hollow_Cane/051_104aee6f.wav\n",
      "INFO:tts_util:Generating audio for chunk 56_f1939193, attempt 1\n"
     ]
    },
    {
     "name": "stdout",
     "output_type": "stream",
     "text": [
      "✓ Processed chunk 43: ./audio_outputs/audio_chunks/20251004_The_Adventure_of_the_Hollow_Cane/043_5ec82fb6.wav\n",
      "✓ Processed chunk 51: ./audio_outputs/audio_chunks/20251004_The_Adventure_of_the_Hollow_Cane/051_104aee6f.wav\n"
     ]
    },
    {
     "name": "stderr",
     "output_type": "stream",
     "text": [
      "INFO:tts_util:Successfully generated audio: ./audio_outputs/audio_chunks/20251004_The_Adventure_of_the_Hollow_Cane/054_26b495a3.wav\n",
      "INFO:tts_util:Generating audio for chunk 57_0fec49e9, attempt 1\n"
     ]
    },
    {
     "name": "stdout",
     "output_type": "stream",
     "text": [
      "✓ Processed chunk 54: ./audio_outputs/audio_chunks/20251004_The_Adventure_of_the_Hollow_Cane/054_26b495a3.wav\n"
     ]
    },
    {
     "name": "stderr",
     "output_type": "stream",
     "text": [
      "INFO:tts_util:Successfully generated audio: ./audio_outputs/audio_chunks/20251004_The_Adventure_of_the_Hollow_Cane/055_5a386bae.wav\n",
      "INFO:tts_util:Generating audio for chunk 58_9cd16334, attempt 1\n"
     ]
    },
    {
     "name": "stdout",
     "output_type": "stream",
     "text": [
      "✓ Processed chunk 55: ./audio_outputs/audio_chunks/20251004_The_Adventure_of_the_Hollow_Cane/055_5a386bae.wav\n"
     ]
    },
    {
     "name": "stderr",
     "output_type": "stream",
     "text": [
      "INFO:tts_util:Successfully generated audio: ./audio_outputs/audio_chunks/20251004_The_Adventure_of_the_Hollow_Cane/053_a213d563.wav\n",
      "INFO:tts_util:Generating audio for chunk 59_d2f7f447, attempt 1\n"
     ]
    },
    {
     "name": "stdout",
     "output_type": "stream",
     "text": [
      "✓ Processed chunk 53: ./audio_outputs/audio_chunks/20251004_The_Adventure_of_the_Hollow_Cane/053_a213d563.wav\n"
     ]
    },
    {
     "name": "stderr",
     "output_type": "stream",
     "text": [
      "INFO:tts_util:Successfully generated audio: ./audio_outputs/audio_chunks/20251004_The_Adventure_of_the_Hollow_Cane/050_5f537650.wav\n",
      "INFO:tts_util:Generating audio for chunk 60_a97bfbf5, attempt 1\n"
     ]
    },
    {
     "name": "stdout",
     "output_type": "stream",
     "text": [
      "✓ Processed chunk 50: ./audio_outputs/audio_chunks/20251004_The_Adventure_of_the_Hollow_Cane/050_5f537650.wav\n"
     ]
    },
    {
     "name": "stderr",
     "output_type": "stream",
     "text": [
      "INFO:tts_util:Successfully generated audio: ./audio_outputs/audio_chunks/20251004_The_Adventure_of_the_Hollow_Cane/056_f1939193.wav\n",
      "INFO:tts_util:Generating audio for chunk 61_a330e3c6, attempt 1\n",
      "INFO:tts_util:Successfully generated audio: ./audio_outputs/audio_chunks/20251004_The_Adventure_of_the_Hollow_Cane/059_d2f7f447.wav\n",
      "INFO:tts_util:Generating audio for chunk 62_339a0bf6, attempt 1\n"
     ]
    },
    {
     "name": "stdout",
     "output_type": "stream",
     "text": [
      "✓ Processed chunk 56: ./audio_outputs/audio_chunks/20251004_The_Adventure_of_the_Hollow_Cane/056_f1939193.wav\n",
      "✓ Processed chunk 59: ./audio_outputs/audio_chunks/20251004_The_Adventure_of_the_Hollow_Cane/059_d2f7f447.wav\n"
     ]
    },
    {
     "name": "stderr",
     "output_type": "stream",
     "text": [
      "INFO:tts_util:Successfully generated audio: ./audio_outputs/audio_chunks/20251004_The_Adventure_of_the_Hollow_Cane/058_9cd16334.wav\n",
      "INFO:tts_util:Generating audio for chunk 63_8236b901, attempt 1\n"
     ]
    },
    {
     "name": "stdout",
     "output_type": "stream",
     "text": [
      "✓ Processed chunk 58: ./audio_outputs/audio_chunks/20251004_The_Adventure_of_the_Hollow_Cane/058_9cd16334.wav\n"
     ]
    },
    {
     "name": "stderr",
     "output_type": "stream",
     "text": [
      "INFO:tts_util:Successfully generated audio: ./audio_outputs/audio_chunks/20251004_The_Adventure_of_the_Hollow_Cane/061_a330e3c6.wav\n",
      "INFO:tts_util:Generating audio for chunk 64_a9ea1bc8, attempt 1\n"
     ]
    },
    {
     "name": "stdout",
     "output_type": "stream",
     "text": [
      "✓ Processed chunk 61: ./audio_outputs/audio_chunks/20251004_The_Adventure_of_the_Hollow_Cane/061_a330e3c6.wav\n"
     ]
    },
    {
     "name": "stderr",
     "output_type": "stream",
     "text": [
      "INFO:tts_util:Successfully generated audio: ./audio_outputs/audio_chunks/20251004_The_Adventure_of_the_Hollow_Cane/062_339a0bf6.wav\n",
      "INFO:tts_util:Generating audio for chunk 65_43670bb7, attempt 1\n"
     ]
    },
    {
     "name": "stdout",
     "output_type": "stream",
     "text": [
      "✓ Processed chunk 62: ./audio_outputs/audio_chunks/20251004_The_Adventure_of_the_Hollow_Cane/062_339a0bf6.wav\n"
     ]
    },
    {
     "name": "stderr",
     "output_type": "stream",
     "text": [
      "INFO:tts_util:Successfully generated audio: ./audio_outputs/audio_chunks/20251004_The_Adventure_of_the_Hollow_Cane/057_0fec49e9.wav\n",
      "INFO:tts_util:Generating audio for chunk 66_c1e4c2e8, attempt 1\n",
      "INFO:tts_util:Successfully generated audio: ./audio_outputs/audio_chunks/20251004_The_Adventure_of_the_Hollow_Cane/063_8236b901.wav\n",
      "INFO:tts_util:Generating audio for chunk 67_835c7e05, attempt 1\n"
     ]
    },
    {
     "name": "stdout",
     "output_type": "stream",
     "text": [
      "✓ Processed chunk 57: ./audio_outputs/audio_chunks/20251004_The_Adventure_of_the_Hollow_Cane/057_0fec49e9.wav\n",
      "✓ Processed chunk 63: ./audio_outputs/audio_chunks/20251004_The_Adventure_of_the_Hollow_Cane/063_8236b901.wav\n"
     ]
    },
    {
     "name": "stderr",
     "output_type": "stream",
     "text": [
      "INFO:tts_util:Successfully generated audio: ./audio_outputs/audio_chunks/20251004_The_Adventure_of_the_Hollow_Cane/064_a9ea1bc8.wav\n",
      "INFO:tts_util:Generating audio for chunk 68_86980347, attempt 1\n"
     ]
    },
    {
     "name": "stdout",
     "output_type": "stream",
     "text": [
      "✓ Processed chunk 64: ./audio_outputs/audio_chunks/20251004_The_Adventure_of_the_Hollow_Cane/064_a9ea1bc8.wav\n"
     ]
    },
    {
     "name": "stderr",
     "output_type": "stream",
     "text": [
      "INFO:tts_util:Successfully generated audio: ./audio_outputs/audio_chunks/20251004_The_Adventure_of_the_Hollow_Cane/065_43670bb7.wav\n",
      "INFO:tts_util:Generating audio for chunk 69_219f8df3, attempt 1\n"
     ]
    },
    {
     "name": "stdout",
     "output_type": "stream",
     "text": [
      "✓ Processed chunk 65: ./audio_outputs/audio_chunks/20251004_The_Adventure_of_the_Hollow_Cane/065_43670bb7.wav\n"
     ]
    },
    {
     "name": "stderr",
     "output_type": "stream",
     "text": [
      "INFO:tts_util:Successfully generated audio: ./audio_outputs/audio_chunks/20251004_The_Adventure_of_the_Hollow_Cane/066_c1e4c2e8.wav\n",
      "INFO:tts_util:Generating audio for chunk 70_762922c5, attempt 1\n"
     ]
    },
    {
     "name": "stdout",
     "output_type": "stream",
     "text": [
      "✓ Processed chunk 66: ./audio_outputs/audio_chunks/20251004_The_Adventure_of_the_Hollow_Cane/066_c1e4c2e8.wav\n"
     ]
    },
    {
     "name": "stderr",
     "output_type": "stream",
     "text": [
      "INFO:tts_util:Successfully generated audio: ./audio_outputs/audio_chunks/20251004_The_Adventure_of_the_Hollow_Cane/068_86980347.wav\n",
      "INFO:tts_util:Generating audio for chunk 71_c1623eed, attempt 1\n"
     ]
    },
    {
     "name": "stdout",
     "output_type": "stream",
     "text": [
      "✓ Processed chunk 68: ./audio_outputs/audio_chunks/20251004_The_Adventure_of_the_Hollow_Cane/068_86980347.wav\n"
     ]
    },
    {
     "name": "stderr",
     "output_type": "stream",
     "text": [
      "INFO:tts_util:Successfully generated audio: ./audio_outputs/audio_chunks/20251004_The_Adventure_of_the_Hollow_Cane/060_a97bfbf5.wav\n",
      "INFO:tts_util:Generating audio for chunk 72_1adff1eb, attempt 1\n"
     ]
    },
    {
     "name": "stdout",
     "output_type": "stream",
     "text": [
      "✓ Processed chunk 60: ./audio_outputs/audio_chunks/20251004_The_Adventure_of_the_Hollow_Cane/060_a97bfbf5.wav\n"
     ]
    },
    {
     "name": "stderr",
     "output_type": "stream",
     "text": [
      "INFO:tts_util:Successfully generated audio: ./audio_outputs/audio_chunks/20251004_The_Adventure_of_the_Hollow_Cane/067_835c7e05.wav\n",
      "INFO:tts_util:Generating audio for chunk 73_10c38b30, attempt 1\n"
     ]
    },
    {
     "name": "stdout",
     "output_type": "stream",
     "text": [
      "✓ Processed chunk 67: ./audio_outputs/audio_chunks/20251004_The_Adventure_of_the_Hollow_Cane/067_835c7e05.wav\n"
     ]
    },
    {
     "name": "stderr",
     "output_type": "stream",
     "text": [
      "INFO:tts_util:Successfully generated audio: ./audio_outputs/audio_chunks/20251004_The_Adventure_of_the_Hollow_Cane/069_219f8df3.wav\n",
      "INFO:tts_util:Generating audio for chunk 74_ce4a36c7, attempt 1\n"
     ]
    },
    {
     "name": "stdout",
     "output_type": "stream",
     "text": [
      "✓ Processed chunk 69: ./audio_outputs/audio_chunks/20251004_The_Adventure_of_the_Hollow_Cane/069_219f8df3.wav\n"
     ]
    },
    {
     "name": "stderr",
     "output_type": "stream",
     "text": [
      "INFO:tts_util:Successfully generated audio: ./audio_outputs/audio_chunks/20251004_The_Adventure_of_the_Hollow_Cane/072_1adff1eb.wav\n",
      "INFO:tts_util:Generating audio for chunk 75_28b265af, attempt 1\n"
     ]
    },
    {
     "name": "stdout",
     "output_type": "stream",
     "text": [
      "✓ Processed chunk 72: ./audio_outputs/audio_chunks/20251004_The_Adventure_of_the_Hollow_Cane/072_1adff1eb.wav\n"
     ]
    },
    {
     "name": "stderr",
     "output_type": "stream",
     "text": [
      "INFO:tts_util:Successfully generated audio: ./audio_outputs/audio_chunks/20251004_The_Adventure_of_the_Hollow_Cane/075_28b265af.wav\n",
      "INFO:tts_util:Generating audio for chunk 76_45d42bba, attempt 1\n"
     ]
    },
    {
     "name": "stdout",
     "output_type": "stream",
     "text": [
      "✓ Processed chunk 75: ./audio_outputs/audio_chunks/20251004_The_Adventure_of_the_Hollow_Cane/075_28b265af.wav\n"
     ]
    },
    {
     "name": "stderr",
     "output_type": "stream",
     "text": [
      "INFO:tts_util:Successfully generated audio: ./audio_outputs/audio_chunks/20251004_The_Adventure_of_the_Hollow_Cane/071_c1623eed.wav\n",
      "INFO:tts_util:Generating audio for chunk 77_1bc46a93, attempt 1\n",
      "INFO:tts_util:Successfully generated audio: ./audio_outputs/audio_chunks/20251004_The_Adventure_of_the_Hollow_Cane/070_762922c5.wav\n",
      "INFO:tts_util:Generating audio for chunk 78_f04ce7da, attempt 1\n"
     ]
    },
    {
     "name": "stdout",
     "output_type": "stream",
     "text": [
      "✓ Processed chunk 71: ./audio_outputs/audio_chunks/20251004_The_Adventure_of_the_Hollow_Cane/071_c1623eed.wav\n",
      "✓ Processed chunk 70: ./audio_outputs/audio_chunks/20251004_The_Adventure_of_the_Hollow_Cane/070_762922c5.wav\n"
     ]
    },
    {
     "name": "stderr",
     "output_type": "stream",
     "text": [
      "INFO:tts_util:Successfully generated audio: ./audio_outputs/audio_chunks/20251004_The_Adventure_of_the_Hollow_Cane/074_ce4a36c7.wav\n",
      "INFO:tts_util:Generating audio for chunk 79_8de97ce8, attempt 1\n"
     ]
    },
    {
     "name": "stdout",
     "output_type": "stream",
     "text": [
      "✓ Processed chunk 74: ./audio_outputs/audio_chunks/20251004_The_Adventure_of_the_Hollow_Cane/074_ce4a36c7.wav\n"
     ]
    },
    {
     "name": "stderr",
     "output_type": "stream",
     "text": [
      "INFO:tts_util:Successfully generated audio: ./audio_outputs/audio_chunks/20251004_The_Adventure_of_the_Hollow_Cane/073_10c38b30.wav\n",
      "INFO:tts_util:Generating audio for chunk 80_2808ac65, attempt 1\n"
     ]
    },
    {
     "name": "stdout",
     "output_type": "stream",
     "text": [
      "✓ Processed chunk 73: ./audio_outputs/audio_chunks/20251004_The_Adventure_of_the_Hollow_Cane/073_10c38b30.wav\n"
     ]
    },
    {
     "name": "stderr",
     "output_type": "stream",
     "text": [
      "INFO:tts_util:Successfully generated audio: ./audio_outputs/audio_chunks/20251004_The_Adventure_of_the_Hollow_Cane/076_45d42bba.wav\n",
      "INFO:tts_util:Generating audio for chunk 81_f815ee87, attempt 1\n",
      "INFO:tts_util:Successfully generated audio: ./audio_outputs/audio_chunks/20251004_The_Adventure_of_the_Hollow_Cane/078_f04ce7da.wav\n",
      "INFO:tts_util:Generating audio for chunk 82_4c70379b, attempt 1\n"
     ]
    },
    {
     "name": "stdout",
     "output_type": "stream",
     "text": [
      "✓ Processed chunk 76: ./audio_outputs/audio_chunks/20251004_The_Adventure_of_the_Hollow_Cane/076_45d42bba.wav\n",
      "✓ Processed chunk 78: ./audio_outputs/audio_chunks/20251004_The_Adventure_of_the_Hollow_Cane/078_f04ce7da.wav\n"
     ]
    },
    {
     "name": "stderr",
     "output_type": "stream",
     "text": [
      "INFO:tts_util:Successfully generated audio: ./audio_outputs/audio_chunks/20251004_The_Adventure_of_the_Hollow_Cane/079_8de97ce8.wav\n",
      "INFO:tts_util:Generating audio for chunk 83_37d87f98, attempt 1\n"
     ]
    },
    {
     "name": "stdout",
     "output_type": "stream",
     "text": [
      "✓ Processed chunk 79: ./audio_outputs/audio_chunks/20251004_The_Adventure_of_the_Hollow_Cane/079_8de97ce8.wav\n"
     ]
    },
    {
     "name": "stderr",
     "output_type": "stream",
     "text": [
      "INFO:tts_util:Successfully generated audio: ./audio_outputs/audio_chunks/20251004_The_Adventure_of_the_Hollow_Cane/080_2808ac65.wav\n",
      "INFO:tts_util:Generating audio for chunk 84_999d29fd, attempt 1\n"
     ]
    },
    {
     "name": "stdout",
     "output_type": "stream",
     "text": [
      "✓ Processed chunk 80: ./audio_outputs/audio_chunks/20251004_The_Adventure_of_the_Hollow_Cane/080_2808ac65.wav\n"
     ]
    },
    {
     "name": "stderr",
     "output_type": "stream",
     "text": [
      "INFO:tts_util:Successfully generated audio: ./audio_outputs/audio_chunks/20251004_The_Adventure_of_the_Hollow_Cane/081_f815ee87.wav\n",
      "INFO:tts_util:Generating audio for chunk 85_8c224dde, attempt 1\n",
      "INFO:tts_util:Successfully generated audio: ./audio_outputs/audio_chunks/20251004_The_Adventure_of_the_Hollow_Cane/077_1bc46a93.wav\n",
      "INFO:tts_util:Generating audio for chunk 86_09e9942b, attempt 1\n"
     ]
    },
    {
     "name": "stdout",
     "output_type": "stream",
     "text": [
      "✓ Processed chunk 81: ./audio_outputs/audio_chunks/20251004_The_Adventure_of_the_Hollow_Cane/081_f815ee87.wav\n",
      "✓ Processed chunk 77: ./audio_outputs/audio_chunks/20251004_The_Adventure_of_the_Hollow_Cane/077_1bc46a93.wav\n"
     ]
    },
    {
     "name": "stderr",
     "output_type": "stream",
     "text": [
      "INFO:tts_util:Successfully generated audio: ./audio_outputs/audio_chunks/20251004_The_Adventure_of_the_Hollow_Cane/084_999d29fd.wav\n",
      "INFO:tts_util:Generating audio for chunk 87_5b9b06a4, attempt 1\n"
     ]
    },
    {
     "name": "stdout",
     "output_type": "stream",
     "text": [
      "✓ Processed chunk 84: ./audio_outputs/audio_chunks/20251004_The_Adventure_of_the_Hollow_Cane/084_999d29fd.wav\n"
     ]
    },
    {
     "name": "stderr",
     "output_type": "stream",
     "text": [
      "INFO:tts_util:Successfully generated audio: ./audio_outputs/audio_chunks/20251004_The_Adventure_of_the_Hollow_Cane/083_37d87f98.wav\n",
      "INFO:tts_util:Generating audio for chunk 88_52f674f5, attempt 1\n",
      "INFO:tts_util:Successfully generated audio: ./audio_outputs/audio_chunks/20251004_The_Adventure_of_the_Hollow_Cane/082_4c70379b.wav\n",
      "INFO:tts_util:Generating audio for chunk 89_87523783, attempt 1\n",
      "INFO:tts_util:Successfully generated audio: ./audio_outputs/audio_chunks/20251004_The_Adventure_of_the_Hollow_Cane/085_8c224dde.wav\n",
      "INFO:tts_util:Generating audio for chunk 90_4d2ccc0e, attempt 1\n"
     ]
    },
    {
     "name": "stdout",
     "output_type": "stream",
     "text": [
      "✓ Processed chunk 83: ./audio_outputs/audio_chunks/20251004_The_Adventure_of_the_Hollow_Cane/083_37d87f98.wav\n",
      "✓ Processed chunk 82: ./audio_outputs/audio_chunks/20251004_The_Adventure_of_the_Hollow_Cane/082_4c70379b.wav\n",
      "✓ Processed chunk 85: ./audio_outputs/audio_chunks/20251004_The_Adventure_of_the_Hollow_Cane/085_8c224dde.wav\n"
     ]
    },
    {
     "name": "stderr",
     "output_type": "stream",
     "text": [
      "INFO:tts_util:Successfully generated audio: ./audio_outputs/audio_chunks/20251004_The_Adventure_of_the_Hollow_Cane/088_52f674f5.wav\n",
      "INFO:tts_util:Generating audio for chunk 91_cc4263b7, attempt 1\n"
     ]
    },
    {
     "name": "stdout",
     "output_type": "stream",
     "text": [
      "✓ Processed chunk 88: ./audio_outputs/audio_chunks/20251004_The_Adventure_of_the_Hollow_Cane/088_52f674f5.wav\n"
     ]
    },
    {
     "name": "stderr",
     "output_type": "stream",
     "text": [
      "INFO:tts_util:Successfully generated audio: ./audio_outputs/audio_chunks/20251004_The_Adventure_of_the_Hollow_Cane/089_87523783.wav\n",
      "INFO:tts_util:Generating audio for chunk 92_316445f1, attempt 1\n"
     ]
    },
    {
     "name": "stdout",
     "output_type": "stream",
     "text": [
      "✓ Processed chunk 89: ./audio_outputs/audio_chunks/20251004_The_Adventure_of_the_Hollow_Cane/089_87523783.wav\n"
     ]
    },
    {
     "name": "stderr",
     "output_type": "stream",
     "text": [
      "INFO:tts_util:Successfully generated audio: ./audio_outputs/audio_chunks/20251004_The_Adventure_of_the_Hollow_Cane/087_5b9b06a4.wav\n",
      "INFO:tts_util:Generating audio for chunk 93_cbbc1d5b, attempt 1\n"
     ]
    },
    {
     "name": "stdout",
     "output_type": "stream",
     "text": [
      "✓ Processed chunk 87: ./audio_outputs/audio_chunks/20251004_The_Adventure_of_the_Hollow_Cane/087_5b9b06a4.wav\n"
     ]
    },
    {
     "name": "stderr",
     "output_type": "stream",
     "text": [
      "INFO:tts_util:Successfully generated audio: ./audio_outputs/audio_chunks/20251004_The_Adventure_of_the_Hollow_Cane/092_316445f1.wav\n",
      "INFO:tts_util:Generating audio for chunk 94_c1802b40, attempt 1\n",
      "INFO:tts_util:Successfully generated audio: ./audio_outputs/audio_chunks/20251004_The_Adventure_of_the_Hollow_Cane/086_09e9942b.wav\n",
      "INFO:tts_util:Generating audio for chunk 95_21627d18, attempt 1\n"
     ]
    },
    {
     "name": "stdout",
     "output_type": "stream",
     "text": [
      "✓ Processed chunk 92: ./audio_outputs/audio_chunks/20251004_The_Adventure_of_the_Hollow_Cane/092_316445f1.wav\n",
      "✓ Processed chunk 86: ./audio_outputs/audio_chunks/20251004_The_Adventure_of_the_Hollow_Cane/086_09e9942b.wav\n"
     ]
    },
    {
     "name": "stderr",
     "output_type": "stream",
     "text": [
      "INFO:tts_util:Successfully generated audio: ./audio_outputs/audio_chunks/20251004_The_Adventure_of_the_Hollow_Cane/093_cbbc1d5b.wav\n",
      "INFO:tts_util:Generating audio for chunk 96_5f6ba969, attempt 1\n"
     ]
    },
    {
     "name": "stdout",
     "output_type": "stream",
     "text": [
      "✓ Processed chunk 93: ./audio_outputs/audio_chunks/20251004_The_Adventure_of_the_Hollow_Cane/093_cbbc1d5b.wav\n"
     ]
    },
    {
     "name": "stderr",
     "output_type": "stream",
     "text": [
      "INFO:tts_util:Successfully generated audio: ./audio_outputs/audio_chunks/20251004_The_Adventure_of_the_Hollow_Cane/090_4d2ccc0e.wav\n",
      "INFO:tts_util:Generating audio for chunk 97_b27cc94c, attempt 1\n"
     ]
    },
    {
     "name": "stdout",
     "output_type": "stream",
     "text": [
      "✓ Processed chunk 90: ./audio_outputs/audio_chunks/20251004_The_Adventure_of_the_Hollow_Cane/090_4d2ccc0e.wav\n"
     ]
    },
    {
     "name": "stderr",
     "output_type": "stream",
     "text": [
      "INFO:tts_util:Successfully generated audio: ./audio_outputs/audio_chunks/20251004_The_Adventure_of_the_Hollow_Cane/094_c1802b40.wav\n",
      "INFO:tts_util:Generating audio for chunk 98_4dc5987e, attempt 1\n"
     ]
    },
    {
     "name": "stdout",
     "output_type": "stream",
     "text": [
      "✓ Processed chunk 94: ./audio_outputs/audio_chunks/20251004_The_Adventure_of_the_Hollow_Cane/094_c1802b40.wav\n"
     ]
    },
    {
     "name": "stderr",
     "output_type": "stream",
     "text": [
      "INFO:tts_util:Successfully generated audio: ./audio_outputs/audio_chunks/20251004_The_Adventure_of_the_Hollow_Cane/096_5f6ba969.wav\n",
      "INFO:tts_util:Generating audio for chunk 99_7912ed30, attempt 1\n"
     ]
    },
    {
     "name": "stdout",
     "output_type": "stream",
     "text": [
      "✓ Processed chunk 96: ./audio_outputs/audio_chunks/20251004_The_Adventure_of_the_Hollow_Cane/096_5f6ba969.wav\n"
     ]
    },
    {
     "name": "stderr",
     "output_type": "stream",
     "text": [
      "INFO:tts_util:Successfully generated audio: ./audio_outputs/audio_chunks/20251004_The_Adventure_of_the_Hollow_Cane/095_21627d18.wav\n",
      "INFO:tts_util:Generating audio for chunk 100_b5d878aa, attempt 1\n"
     ]
    },
    {
     "name": "stdout",
     "output_type": "stream",
     "text": [
      "✓ Processed chunk 95: ./audio_outputs/audio_chunks/20251004_The_Adventure_of_the_Hollow_Cane/095_21627d18.wav\n"
     ]
    },
    {
     "name": "stderr",
     "output_type": "stream",
     "text": [
      "INFO:tts_util:Successfully generated audio: ./audio_outputs/audio_chunks/20251004_The_Adventure_of_the_Hollow_Cane/091_cc4263b7.wav\n",
      "INFO:tts_util:Generating audio for chunk 101_e7299856, attempt 1\n"
     ]
    },
    {
     "name": "stdout",
     "output_type": "stream",
     "text": [
      "✓ Processed chunk 91: ./audio_outputs/audio_chunks/20251004_The_Adventure_of_the_Hollow_Cane/091_cc4263b7.wav\n"
     ]
    },
    {
     "name": "stderr",
     "output_type": "stream",
     "text": [
      "INFO:tts_util:Successfully generated audio: ./audio_outputs/audio_chunks/20251004_The_Adventure_of_the_Hollow_Cane/099_7912ed30.wav\n",
      "INFO:tts_util:Generating audio for chunk 102_231a3d15, attempt 1\n"
     ]
    },
    {
     "name": "stdout",
     "output_type": "stream",
     "text": [
      "✓ Processed chunk 99: ./audio_outputs/audio_chunks/20251004_The_Adventure_of_the_Hollow_Cane/099_7912ed30.wav\n"
     ]
    },
    {
     "name": "stderr",
     "output_type": "stream",
     "text": [
      "INFO:tts_util:Successfully generated audio: ./audio_outputs/audio_chunks/20251004_The_Adventure_of_the_Hollow_Cane/100_b5d878aa.wav\n",
      "INFO:tts_util:Generating audio for chunk 103_0bf49f94, attempt 1\n"
     ]
    },
    {
     "name": "stdout",
     "output_type": "stream",
     "text": [
      "✓ Processed chunk 100: ./audio_outputs/audio_chunks/20251004_The_Adventure_of_the_Hollow_Cane/100_b5d878aa.wav\n"
     ]
    },
    {
     "name": "stderr",
     "output_type": "stream",
     "text": [
      "INFO:tts_util:Successfully generated audio: ./audio_outputs/audio_chunks/20251004_The_Adventure_of_the_Hollow_Cane/097_b27cc94c.wav\n",
      "INFO:tts_util:Generating audio for chunk 104_85fc7361, attempt 1\n"
     ]
    },
    {
     "name": "stdout",
     "output_type": "stream",
     "text": [
      "✓ Processed chunk 97: ./audio_outputs/audio_chunks/20251004_The_Adventure_of_the_Hollow_Cane/097_b27cc94c.wav\n"
     ]
    },
    {
     "name": "stderr",
     "output_type": "stream",
     "text": [
      "INFO:tts_util:Successfully generated audio: ./audio_outputs/audio_chunks/20251004_The_Adventure_of_the_Hollow_Cane/101_e7299856.wav\n",
      "INFO:tts_util:Generating audio for chunk 105_a06c9f68, attempt 1\n",
      "INFO:tts_util:Successfully generated audio: ./audio_outputs/audio_chunks/20251004_The_Adventure_of_the_Hollow_Cane/098_4dc5987e.wav\n",
      "INFO:tts_util:Generating audio for chunk 106_d0ff8e31, attempt 1\n"
     ]
    },
    {
     "name": "stdout",
     "output_type": "stream",
     "text": [
      "✓ Processed chunk 101: ./audio_outputs/audio_chunks/20251004_The_Adventure_of_the_Hollow_Cane/101_e7299856.wav\n",
      "✓ Processed chunk 98: ./audio_outputs/audio_chunks/20251004_The_Adventure_of_the_Hollow_Cane/098_4dc5987e.wav\n"
     ]
    },
    {
     "name": "stderr",
     "output_type": "stream",
     "text": [
      "INFO:tts_util:Successfully generated audio: ./audio_outputs/audio_chunks/20251004_The_Adventure_of_the_Hollow_Cane/103_0bf49f94.wav\n",
      "INFO:tts_util:Generating audio for chunk 107_04236eec, attempt 1\n"
     ]
    },
    {
     "name": "stdout",
     "output_type": "stream",
     "text": [
      "✓ Processed chunk 103: ./audio_outputs/audio_chunks/20251004_The_Adventure_of_the_Hollow_Cane/103_0bf49f94.wav\n"
     ]
    },
    {
     "name": "stderr",
     "output_type": "stream",
     "text": [
      "INFO:tts_util:Successfully generated audio: ./audio_outputs/audio_chunks/20251004_The_Adventure_of_the_Hollow_Cane/105_a06c9f68.wav\n",
      "INFO:tts_util:Generating audio for chunk 108_28f94f99, attempt 1\n"
     ]
    },
    {
     "name": "stdout",
     "output_type": "stream",
     "text": [
      "✓ Processed chunk 105: ./audio_outputs/audio_chunks/20251004_The_Adventure_of_the_Hollow_Cane/105_a06c9f68.wav\n"
     ]
    },
    {
     "name": "stderr",
     "output_type": "stream",
     "text": [
      "INFO:tts_util:Successfully generated audio: ./audio_outputs/audio_chunks/20251004_The_Adventure_of_the_Hollow_Cane/102_231a3d15.wav\n",
      "INFO:tts_util:Generating audio for chunk 109_90f75a16, attempt 1\n"
     ]
    },
    {
     "name": "stdout",
     "output_type": "stream",
     "text": [
      "✓ Processed chunk 102: ./audio_outputs/audio_chunks/20251004_The_Adventure_of_the_Hollow_Cane/102_231a3d15.wav\n"
     ]
    },
    {
     "name": "stderr",
     "output_type": "stream",
     "text": [
      "INFO:tts_util:Successfully generated audio: ./audio_outputs/audio_chunks/20251004_The_Adventure_of_the_Hollow_Cane/108_28f94f99.wav\n",
      "INFO:tts_util:Generating audio for chunk 110_9eec8667, attempt 1\n",
      "INFO:tts_util:Successfully generated audio: ./audio_outputs/audio_chunks/20251004_The_Adventure_of_the_Hollow_Cane/107_04236eec.wav\n",
      "INFO:tts_util:Generating audio for chunk 111_50d10e84, attempt 1\n"
     ]
    },
    {
     "name": "stdout",
     "output_type": "stream",
     "text": [
      "✓ Processed chunk 108: ./audio_outputs/audio_chunks/20251004_The_Adventure_of_the_Hollow_Cane/108_28f94f99.wav\n",
      "✓ Processed chunk 107: ./audio_outputs/audio_chunks/20251004_The_Adventure_of_the_Hollow_Cane/107_04236eec.wav\n"
     ]
    },
    {
     "name": "stderr",
     "output_type": "stream",
     "text": [
      "INFO:tts_util:Successfully generated audio: ./audio_outputs/audio_chunks/20251004_The_Adventure_of_the_Hollow_Cane/106_d0ff8e31.wav\n",
      "INFO:tts_util:Generating audio for chunk 112_4411004e, attempt 1\n"
     ]
    },
    {
     "name": "stdout",
     "output_type": "stream",
     "text": [
      "✓ Processed chunk 106: ./audio_outputs/audio_chunks/20251004_The_Adventure_of_the_Hollow_Cane/106_d0ff8e31.wav\n"
     ]
    },
    {
     "name": "stderr",
     "output_type": "stream",
     "text": [
      "INFO:tts_util:Successfully generated audio: ./audio_outputs/audio_chunks/20251004_The_Adventure_of_the_Hollow_Cane/104_85fc7361.wav\n",
      "INFO:tts_util:Generating audio for chunk 113_e7d65950, attempt 1\n"
     ]
    },
    {
     "name": "stdout",
     "output_type": "stream",
     "text": [
      "✓ Processed chunk 104: ./audio_outputs/audio_chunks/20251004_The_Adventure_of_the_Hollow_Cane/104_85fc7361.wav\n"
     ]
    },
    {
     "name": "stderr",
     "output_type": "stream",
     "text": [
      "INFO:tts_util:Successfully generated audio: ./audio_outputs/audio_chunks/20251004_The_Adventure_of_the_Hollow_Cane/110_9eec8667.wav\n",
      "INFO:tts_util:Generating audio for chunk 114_ddfa9645, attempt 1\n"
     ]
    },
    {
     "name": "stdout",
     "output_type": "stream",
     "text": [
      "✓ Processed chunk 110: ./audio_outputs/audio_chunks/20251004_The_Adventure_of_the_Hollow_Cane/110_9eec8667.wav\n"
     ]
    },
    {
     "name": "stderr",
     "output_type": "stream",
     "text": [
      "INFO:tts_util:Successfully generated audio: ./audio_outputs/audio_chunks/20251004_The_Adventure_of_the_Hollow_Cane/109_90f75a16.wav\n",
      "INFO:tts_util:Generating audio for chunk 115_15fa9dd8, attempt 1\n",
      "INFO:tts_util:Successfully generated audio: ./audio_outputs/audio_chunks/20251004_The_Adventure_of_the_Hollow_Cane/111_50d10e84.wav\n",
      "INFO:tts_util:Generating audio for chunk 116_1951865a, attempt 1\n"
     ]
    },
    {
     "name": "stdout",
     "output_type": "stream",
     "text": [
      "✓ Processed chunk 109: ./audio_outputs/audio_chunks/20251004_The_Adventure_of_the_Hollow_Cane/109_90f75a16.wav\n",
      "✓ Processed chunk 111: ./audio_outputs/audio_chunks/20251004_The_Adventure_of_the_Hollow_Cane/111_50d10e84.wav\n"
     ]
    },
    {
     "name": "stderr",
     "output_type": "stream",
     "text": [
      "INFO:tts_util:Successfully generated audio: ./audio_outputs/audio_chunks/20251004_The_Adventure_of_the_Hollow_Cane/114_ddfa9645.wav\n",
      "INFO:tts_util:Generating audio for chunk 117_016c99f2, attempt 1\n"
     ]
    },
    {
     "name": "stdout",
     "output_type": "stream",
     "text": [
      "✓ Processed chunk 114: ./audio_outputs/audio_chunks/20251004_The_Adventure_of_the_Hollow_Cane/114_ddfa9645.wav\n"
     ]
    },
    {
     "name": "stderr",
     "output_type": "stream",
     "text": [
      "INFO:tts_util:Successfully generated audio: ./audio_outputs/audio_chunks/20251004_The_Adventure_of_the_Hollow_Cane/112_4411004e.wav\n",
      "INFO:tts_util:Generating audio for chunk 118_c28785be, attempt 1\n"
     ]
    },
    {
     "name": "stdout",
     "output_type": "stream",
     "text": [
      "✓ Processed chunk 112: ./audio_outputs/audio_chunks/20251004_The_Adventure_of_the_Hollow_Cane/112_4411004e.wav\n"
     ]
    },
    {
     "name": "stderr",
     "output_type": "stream",
     "text": [
      "INFO:tts_util:Successfully generated audio: ./audio_outputs/audio_chunks/20251004_The_Adventure_of_the_Hollow_Cane/115_15fa9dd8.wav\n",
      "INFO:tts_util:Generating audio for chunk 119_ab5620ea, attempt 1\n"
     ]
    },
    {
     "name": "stdout",
     "output_type": "stream",
     "text": [
      "✓ Processed chunk 115: ./audio_outputs/audio_chunks/20251004_The_Adventure_of_the_Hollow_Cane/115_15fa9dd8.wav\n"
     ]
    },
    {
     "name": "stderr",
     "output_type": "stream",
     "text": [
      "INFO:tts_util:Successfully generated audio: ./audio_outputs/audio_chunks/20251004_The_Adventure_of_the_Hollow_Cane/116_1951865a.wav\n",
      "INFO:tts_util:Generating audio for chunk 120_5ca92772, attempt 1\n",
      "INFO:tts_util:Successfully generated audio: ./audio_outputs/audio_chunks/20251004_The_Adventure_of_the_Hollow_Cane/118_c28785be.wav\n",
      "INFO:tts_util:Generating audio for chunk 121_53830a74, attempt 1\n"
     ]
    },
    {
     "name": "stdout",
     "output_type": "stream",
     "text": [
      "✓ Processed chunk 116: ./audio_outputs/audio_chunks/20251004_The_Adventure_of_the_Hollow_Cane/116_1951865a.wav\n",
      "✓ Processed chunk 118: ./audio_outputs/audio_chunks/20251004_The_Adventure_of_the_Hollow_Cane/118_c28785be.wav\n"
     ]
    },
    {
     "name": "stderr",
     "output_type": "stream",
     "text": [
      "INFO:tts_util:Successfully generated audio: ./audio_outputs/audio_chunks/20251004_The_Adventure_of_the_Hollow_Cane/113_e7d65950.wav\n",
      "INFO:tts_util:Generating audio for chunk 122_e8bbf111, attempt 1\n"
     ]
    },
    {
     "name": "stdout",
     "output_type": "stream",
     "text": [
      "✓ Processed chunk 113: ./audio_outputs/audio_chunks/20251004_The_Adventure_of_the_Hollow_Cane/113_e7d65950.wav\n"
     ]
    },
    {
     "name": "stderr",
     "output_type": "stream",
     "text": [
      "INFO:tts_util:Successfully generated audio: ./audio_outputs/audio_chunks/20251004_The_Adventure_of_the_Hollow_Cane/117_016c99f2.wav\n",
      "INFO:tts_util:Generating audio for chunk 123_45275946, attempt 1\n"
     ]
    },
    {
     "name": "stdout",
     "output_type": "stream",
     "text": [
      "✓ Processed chunk 117: ./audio_outputs/audio_chunks/20251004_The_Adventure_of_the_Hollow_Cane/117_016c99f2.wav\n"
     ]
    },
    {
     "name": "stderr",
     "output_type": "stream",
     "text": [
      "INFO:tts_util:Successfully generated audio: ./audio_outputs/audio_chunks/20251004_The_Adventure_of_the_Hollow_Cane/122_e8bbf111.wav\n",
      "INFO:tts_util:Generating audio for chunk 124_b1f2146a, attempt 1\n",
      "INFO:tts_util:Successfully generated audio: ./audio_outputs/audio_chunks/20251004_The_Adventure_of_the_Hollow_Cane/119_ab5620ea.wav\n",
      "INFO:tts_util:Generating audio for chunk 125_fb0cb5da, attempt 1\n"
     ]
    },
    {
     "name": "stdout",
     "output_type": "stream",
     "text": [
      "✓ Processed chunk 122: ./audio_outputs/audio_chunks/20251004_The_Adventure_of_the_Hollow_Cane/122_e8bbf111.wav\n",
      "✓ Processed chunk 119: ./audio_outputs/audio_chunks/20251004_The_Adventure_of_the_Hollow_Cane/119_ab5620ea.wav\n"
     ]
    },
    {
     "name": "stderr",
     "output_type": "stream",
     "text": [
      "INFO:tts_util:Successfully generated audio: ./audio_outputs/audio_chunks/20251004_The_Adventure_of_the_Hollow_Cane/125_fb0cb5da.wav\n",
      "INFO:tts_util:Generating audio for chunk 126_4b46003c, attempt 1\n",
      "INFO:tts_util:Successfully generated audio: ./audio_outputs/audio_chunks/20251004_The_Adventure_of_the_Hollow_Cane/124_b1f2146a.wav\n",
      "INFO:tts_util:Generating audio for chunk 127_aab64c5f, attempt 1\n"
     ]
    },
    {
     "name": "stdout",
     "output_type": "stream",
     "text": [
      "✓ Processed chunk 125: ./audio_outputs/audio_chunks/20251004_The_Adventure_of_the_Hollow_Cane/125_fb0cb5da.wav\n",
      "✓ Processed chunk 124: ./audio_outputs/audio_chunks/20251004_The_Adventure_of_the_Hollow_Cane/124_b1f2146a.wav\n"
     ]
    },
    {
     "name": "stderr",
     "output_type": "stream",
     "text": [
      "INFO:tts_util:Successfully generated audio: ./audio_outputs/audio_chunks/20251004_The_Adventure_of_the_Hollow_Cane/123_45275946.wav\n",
      "INFO:tts_util:Generating audio for chunk 128_790327e6, attempt 1\n"
     ]
    },
    {
     "name": "stdout",
     "output_type": "stream",
     "text": [
      "✓ Processed chunk 123: ./audio_outputs/audio_chunks/20251004_The_Adventure_of_the_Hollow_Cane/123_45275946.wav\n"
     ]
    },
    {
     "name": "stderr",
     "output_type": "stream",
     "text": [
      "INFO:tts_util:Successfully generated audio: ./audio_outputs/audio_chunks/20251004_The_Adventure_of_the_Hollow_Cane/120_5ca92772.wav\n",
      "INFO:tts_util:Generating audio for chunk 129_5d4154fa, attempt 1\n",
      "INFO:tts_util:Successfully generated audio: ./audio_outputs/audio_chunks/20251004_The_Adventure_of_the_Hollow_Cane/128_790327e6.wav\n",
      "INFO:tts_util:Generating audio for chunk 130_b8234a9f, attempt 1\n"
     ]
    },
    {
     "name": "stdout",
     "output_type": "stream",
     "text": [
      "✓ Processed chunk 120: ./audio_outputs/audio_chunks/20251004_The_Adventure_of_the_Hollow_Cane/120_5ca92772.wav\n",
      "✓ Processed chunk 128: ./audio_outputs/audio_chunks/20251004_The_Adventure_of_the_Hollow_Cane/128_790327e6.wav\n"
     ]
    },
    {
     "name": "stderr",
     "output_type": "stream",
     "text": [
      "INFO:tts_util:Successfully generated audio: ./audio_outputs/audio_chunks/20251004_The_Adventure_of_the_Hollow_Cane/126_4b46003c.wav\n",
      "INFO:tts_util:Generating audio for chunk 131_bf070de4, attempt 1\n",
      "INFO:tts_util:Successfully generated audio: ./audio_outputs/audio_chunks/20251004_The_Adventure_of_the_Hollow_Cane/127_aab64c5f.wav\n",
      "INFO:tts_util:Generating audio for chunk 132_c82cda18, attempt 1\n",
      "INFO:tts_util:Successfully generated audio: ./audio_outputs/audio_chunks/20251004_The_Adventure_of_the_Hollow_Cane/121_53830a74.wav\n",
      "INFO:tts_util:Generating audio for chunk 133_9163c52c, attempt 1\n"
     ]
    },
    {
     "name": "stdout",
     "output_type": "stream",
     "text": [
      "✓ Processed chunk 126: ./audio_outputs/audio_chunks/20251004_The_Adventure_of_the_Hollow_Cane/126_4b46003c.wav\n",
      "✓ Processed chunk 127: ./audio_outputs/audio_chunks/20251004_The_Adventure_of_the_Hollow_Cane/127_aab64c5f.wav\n",
      "✓ Processed chunk 121: ./audio_outputs/audio_chunks/20251004_The_Adventure_of_the_Hollow_Cane/121_53830a74.wav\n"
     ]
    },
    {
     "name": "stderr",
     "output_type": "stream",
     "text": [
      "INFO:tts_util:Successfully generated audio: ./audio_outputs/audio_chunks/20251004_The_Adventure_of_the_Hollow_Cane/130_b8234a9f.wav\n",
      "INFO:tts_util:Generating audio for chunk 134_e6ff91c9, attempt 1\n",
      "INFO:tts_util:Successfully generated audio: ./audio_outputs/audio_chunks/20251004_The_Adventure_of_the_Hollow_Cane/131_bf070de4.wav\n",
      "INFO:tts_util:Generating audio for chunk 135_c751ac1c, attempt 1\n"
     ]
    },
    {
     "name": "stdout",
     "output_type": "stream",
     "text": [
      "✓ Processed chunk 130: ./audio_outputs/audio_chunks/20251004_The_Adventure_of_the_Hollow_Cane/130_b8234a9f.wav\n",
      "✓ Processed chunk 131: ./audio_outputs/audio_chunks/20251004_The_Adventure_of_the_Hollow_Cane/131_bf070de4.wav\n"
     ]
    },
    {
     "name": "stderr",
     "output_type": "stream",
     "text": [
      "INFO:tts_util:Successfully generated audio: ./audio_outputs/audio_chunks/20251004_The_Adventure_of_the_Hollow_Cane/133_9163c52c.wav\n",
      "INFO:tts_util:Generating audio for chunk 136_d8d74358, attempt 1\n"
     ]
    },
    {
     "name": "stdout",
     "output_type": "stream",
     "text": [
      "✓ Processed chunk 133: ./audio_outputs/audio_chunks/20251004_The_Adventure_of_the_Hollow_Cane/133_9163c52c.wav\n"
     ]
    },
    {
     "name": "stderr",
     "output_type": "stream",
     "text": [
      "INFO:tts_util:Successfully generated audio: ./audio_outputs/audio_chunks/20251004_The_Adventure_of_the_Hollow_Cane/129_5d4154fa.wav\n",
      "INFO:tts_util:Generating audio for chunk 137_3ba9416e, attempt 1\n"
     ]
    },
    {
     "name": "stdout",
     "output_type": "stream",
     "text": [
      "✓ Processed chunk 129: ./audio_outputs/audio_chunks/20251004_The_Adventure_of_the_Hollow_Cane/129_5d4154fa.wav\n"
     ]
    },
    {
     "name": "stderr",
     "output_type": "stream",
     "text": [
      "INFO:tts_util:Successfully generated audio: ./audio_outputs/audio_chunks/20251004_The_Adventure_of_the_Hollow_Cane/135_c751ac1c.wav\n",
      "INFO:tts_util:Generating audio for chunk 138_26f1c28d, attempt 1\n"
     ]
    },
    {
     "name": "stdout",
     "output_type": "stream",
     "text": [
      "✓ Processed chunk 135: ./audio_outputs/audio_chunks/20251004_The_Adventure_of_the_Hollow_Cane/135_c751ac1c.wav\n"
     ]
    },
    {
     "name": "stderr",
     "output_type": "stream",
     "text": [
      "INFO:tts_util:Successfully generated audio: ./audio_outputs/audio_chunks/20251004_The_Adventure_of_the_Hollow_Cane/132_c82cda18.wav\n",
      "INFO:tts_util:Generating audio for chunk 139_7b7f7491, attempt 1\n"
     ]
    },
    {
     "name": "stdout",
     "output_type": "stream",
     "text": [
      "✓ Processed chunk 132: ./audio_outputs/audio_chunks/20251004_The_Adventure_of_the_Hollow_Cane/132_c82cda18.wav\n"
     ]
    },
    {
     "name": "stderr",
     "output_type": "stream",
     "text": [
      "INFO:tts_util:Successfully generated audio: ./audio_outputs/audio_chunks/20251004_The_Adventure_of_the_Hollow_Cane/136_d8d74358.wav\n",
      "INFO:tts_util:Generating audio for chunk 140_989aef6f, attempt 1\n"
     ]
    },
    {
     "name": "stdout",
     "output_type": "stream",
     "text": [
      "✓ Processed chunk 136: ./audio_outputs/audio_chunks/20251004_The_Adventure_of_the_Hollow_Cane/136_d8d74358.wav\n"
     ]
    },
    {
     "name": "stderr",
     "output_type": "stream",
     "text": [
      "INFO:tts_util:Successfully generated audio: ./audio_outputs/audio_chunks/20251004_The_Adventure_of_the_Hollow_Cane/138_26f1c28d.wav\n",
      "INFO:tts_util:Generating audio for chunk 141_12802966, attempt 1\n"
     ]
    },
    {
     "name": "stdout",
     "output_type": "stream",
     "text": [
      "✓ Processed chunk 138: ./audio_outputs/audio_chunks/20251004_The_Adventure_of_the_Hollow_Cane/138_26f1c28d.wav\n"
     ]
    },
    {
     "name": "stderr",
     "output_type": "stream",
     "text": [
      "INFO:tts_util:Successfully generated audio: ./audio_outputs/audio_chunks/20251004_The_Adventure_of_the_Hollow_Cane/139_7b7f7491.wav\n",
      "INFO:tts_util:Generating audio for chunk 142_51342f83, attempt 1\n"
     ]
    },
    {
     "name": "stdout",
     "output_type": "stream",
     "text": [
      "✓ Processed chunk 139: ./audio_outputs/audio_chunks/20251004_The_Adventure_of_the_Hollow_Cane/139_7b7f7491.wav\n"
     ]
    },
    {
     "name": "stderr",
     "output_type": "stream",
     "text": [
      "INFO:tts_util:Successfully generated audio: ./audio_outputs/audio_chunks/20251004_The_Adventure_of_the_Hollow_Cane/141_12802966.wav\n",
      "INFO:tts_util:Generating audio for chunk 143_eda19407, attempt 1\n",
      "INFO:tts_util:Successfully generated audio: ./audio_outputs/audio_chunks/20251004_The_Adventure_of_the_Hollow_Cane/140_989aef6f.wav\n",
      "INFO:tts_util:Generating audio for chunk 144_ce9acc17, attempt 1\n"
     ]
    },
    {
     "name": "stdout",
     "output_type": "stream",
     "text": [
      "✓ Processed chunk 141: ./audio_outputs/audio_chunks/20251004_The_Adventure_of_the_Hollow_Cane/141_12802966.wav\n",
      "✓ Processed chunk 140: ./audio_outputs/audio_chunks/20251004_The_Adventure_of_the_Hollow_Cane/140_989aef6f.wav\n"
     ]
    },
    {
     "name": "stderr",
     "output_type": "stream",
     "text": [
      "INFO:tts_util:Successfully generated audio: ./audio_outputs/audio_chunks/20251004_The_Adventure_of_the_Hollow_Cane/142_51342f83.wav\n",
      "INFO:tts_util:Generating audio for chunk 145_13e1024c, attempt 1\n"
     ]
    },
    {
     "name": "stdout",
     "output_type": "stream",
     "text": [
      "✓ Processed chunk 142: ./audio_outputs/audio_chunks/20251004_The_Adventure_of_the_Hollow_Cane/142_51342f83.wav\n"
     ]
    },
    {
     "name": "stderr",
     "output_type": "stream",
     "text": [
      "INFO:tts_util:Successfully generated audio: ./audio_outputs/audio_chunks/20251004_The_Adventure_of_the_Hollow_Cane/134_e6ff91c9.wav\n",
      "INFO:tts_util:Generating audio for chunk 146_e3d61a5a, attempt 1\n"
     ]
    },
    {
     "name": "stdout",
     "output_type": "stream",
     "text": [
      "✓ Processed chunk 134: ./audio_outputs/audio_chunks/20251004_The_Adventure_of_the_Hollow_Cane/134_e6ff91c9.wav\n"
     ]
    },
    {
     "name": "stderr",
     "output_type": "stream",
     "text": [
      "INFO:tts_util:Successfully generated audio: ./audio_outputs/audio_chunks/20251004_The_Adventure_of_the_Hollow_Cane/145_13e1024c.wav\n",
      "INFO:tts_util:Generating audio for chunk 147_2e58f753, attempt 1\n"
     ]
    },
    {
     "name": "stdout",
     "output_type": "stream",
     "text": [
      "✓ Processed chunk 145: ./audio_outputs/audio_chunks/20251004_The_Adventure_of_the_Hollow_Cane/145_13e1024c.wav\n"
     ]
    },
    {
     "name": "stderr",
     "output_type": "stream",
     "text": [
      "INFO:tts_util:Successfully generated audio: ./audio_outputs/audio_chunks/20251004_The_Adventure_of_the_Hollow_Cane/146_e3d61a5a.wav\n",
      "INFO:tts_util:Generating audio for chunk 148_bcfc9122, attempt 1\n",
      "INFO:tts_util:Successfully generated audio: ./audio_outputs/audio_chunks/20251004_The_Adventure_of_the_Hollow_Cane/137_3ba9416e.wav\n",
      "INFO:tts_util:Generating audio for chunk 149_dc5191be, attempt 1\n"
     ]
    },
    {
     "name": "stdout",
     "output_type": "stream",
     "text": [
      "✓ Processed chunk 146: ./audio_outputs/audio_chunks/20251004_The_Adventure_of_the_Hollow_Cane/146_e3d61a5a.wav\n",
      "✓ Processed chunk 137: ./audio_outputs/audio_chunks/20251004_The_Adventure_of_the_Hollow_Cane/137_3ba9416e.wav\n"
     ]
    },
    {
     "name": "stderr",
     "output_type": "stream",
     "text": [
      "INFO:tts_util:Successfully generated audio: ./audio_outputs/audio_chunks/20251004_The_Adventure_of_the_Hollow_Cane/144_ce9acc17.wav\n",
      "INFO:tts_util:Generating audio for chunk 150_84e605e2, attempt 1\n",
      "INFO:tts_util:Successfully generated audio: ./audio_outputs/audio_chunks/20251004_The_Adventure_of_the_Hollow_Cane/148_bcfc9122.wav\n",
      "INFO:tts_util:Generating audio for chunk 151_b523a214, attempt 1\n"
     ]
    },
    {
     "name": "stdout",
     "output_type": "stream",
     "text": [
      "✓ Processed chunk 144: ./audio_outputs/audio_chunks/20251004_The_Adventure_of_the_Hollow_Cane/144_ce9acc17.wav\n",
      "✓ Processed chunk 148: ./audio_outputs/audio_chunks/20251004_The_Adventure_of_the_Hollow_Cane/148_bcfc9122.wav\n"
     ]
    },
    {
     "name": "stderr",
     "output_type": "stream",
     "text": [
      "INFO:tts_util:Successfully generated audio: ./audio_outputs/audio_chunks/20251004_The_Adventure_of_the_Hollow_Cane/147_2e58f753.wav\n",
      "INFO:tts_util:Generating audio for chunk 152_c6a81af1, attempt 1\n"
     ]
    },
    {
     "name": "stdout",
     "output_type": "stream",
     "text": [
      "✓ Processed chunk 147: ./audio_outputs/audio_chunks/20251004_The_Adventure_of_the_Hollow_Cane/147_2e58f753.wav\n"
     ]
    },
    {
     "name": "stderr",
     "output_type": "stream",
     "text": [
      "INFO:tts_util:Successfully generated audio: ./audio_outputs/audio_chunks/20251004_The_Adventure_of_the_Hollow_Cane/143_eda19407.wav\n",
      "INFO:tts_util:Generating audio for chunk 153_9ae2c0a7, attempt 1\n"
     ]
    },
    {
     "name": "stdout",
     "output_type": "stream",
     "text": [
      "✓ Processed chunk 143: ./audio_outputs/audio_chunks/20251004_The_Adventure_of_the_Hollow_Cane/143_eda19407.wav\n"
     ]
    },
    {
     "name": "stderr",
     "output_type": "stream",
     "text": [
      "INFO:tts_util:Successfully generated audio: ./audio_outputs/audio_chunks/20251004_The_Adventure_of_the_Hollow_Cane/150_84e605e2.wav\n",
      "INFO:tts_util:Generating audio for chunk 154_fb2b5124, attempt 1\n"
     ]
    },
    {
     "name": "stdout",
     "output_type": "stream",
     "text": [
      "✓ Processed chunk 150: ./audio_outputs/audio_chunks/20251004_The_Adventure_of_the_Hollow_Cane/150_84e605e2.wav\n"
     ]
    },
    {
     "name": "stderr",
     "output_type": "stream",
     "text": [
      "INFO:tts_util:Successfully generated audio: ./audio_outputs/audio_chunks/20251004_The_Adventure_of_the_Hollow_Cane/151_b523a214.wav\n",
      "INFO:tts_util:Generating audio for chunk 155_f789238b, attempt 1\n"
     ]
    },
    {
     "name": "stdout",
     "output_type": "stream",
     "text": [
      "✓ Processed chunk 151: ./audio_outputs/audio_chunks/20251004_The_Adventure_of_the_Hollow_Cane/151_b523a214.wav\n"
     ]
    },
    {
     "name": "stderr",
     "output_type": "stream",
     "text": [
      "INFO:tts_util:Successfully generated audio: ./audio_outputs/audio_chunks/20251004_The_Adventure_of_the_Hollow_Cane/149_dc5191be.wav\n",
      "INFO:tts_util:Generating audio for chunk 156_064e69d2, attempt 1\n",
      "INFO:tts_util:Successfully generated audio: ./audio_outputs/audio_chunks/20251004_The_Adventure_of_the_Hollow_Cane/153_9ae2c0a7.wav\n",
      "INFO:tts_util:Generating audio for chunk 157_dd483d3f, attempt 1\n"
     ]
    },
    {
     "name": "stdout",
     "output_type": "stream",
     "text": [
      "✓ Processed chunk 149: ./audio_outputs/audio_chunks/20251004_The_Adventure_of_the_Hollow_Cane/149_dc5191be.wav\n",
      "✓ Processed chunk 153: ./audio_outputs/audio_chunks/20251004_The_Adventure_of_the_Hollow_Cane/153_9ae2c0a7.wav\n"
     ]
    },
    {
     "name": "stderr",
     "output_type": "stream",
     "text": [
      "INFO:tts_util:Successfully generated audio: ./audio_outputs/audio_chunks/20251004_The_Adventure_of_the_Hollow_Cane/157_dd483d3f.wav\n",
      "INFO:tts_util:Generating audio for chunk 158_2b3169ba, attempt 1\n"
     ]
    },
    {
     "name": "stdout",
     "output_type": "stream",
     "text": [
      "✓ Processed chunk 157: ./audio_outputs/audio_chunks/20251004_The_Adventure_of_the_Hollow_Cane/157_dd483d3f.wav\n"
     ]
    },
    {
     "name": "stderr",
     "output_type": "stream",
     "text": [
      "INFO:tts_util:Successfully generated audio: ./audio_outputs/audio_chunks/20251004_The_Adventure_of_the_Hollow_Cane/155_f789238b.wav\n",
      "INFO:tts_util:Generating audio for chunk 159_d0901f2c, attempt 1\n",
      "INFO:tts_util:Successfully generated audio: ./audio_outputs/audio_chunks/20251004_The_Adventure_of_the_Hollow_Cane/154_fb2b5124.wav\n",
      "INFO:tts_util:Generating audio for chunk 160_b29a7c67, attempt 1\n"
     ]
    },
    {
     "name": "stdout",
     "output_type": "stream",
     "text": [
      "✓ Processed chunk 155: ./audio_outputs/audio_chunks/20251004_The_Adventure_of_the_Hollow_Cane/155_f789238b.wav\n",
      "✓ Processed chunk 154: ./audio_outputs/audio_chunks/20251004_The_Adventure_of_the_Hollow_Cane/154_fb2b5124.wav\n"
     ]
    },
    {
     "name": "stderr",
     "output_type": "stream",
     "text": [
      "INFO:tts_util:Successfully generated audio: ./audio_outputs/audio_chunks/20251004_The_Adventure_of_the_Hollow_Cane/152_c6a81af1.wav\n",
      "INFO:tts_util:Generating audio for chunk 161_d80ff8ce, attempt 1\n"
     ]
    },
    {
     "name": "stdout",
     "output_type": "stream",
     "text": [
      "✓ Processed chunk 152: ./audio_outputs/audio_chunks/20251004_The_Adventure_of_the_Hollow_Cane/152_c6a81af1.wav\n"
     ]
    },
    {
     "name": "stderr",
     "output_type": "stream",
     "text": [
      "INFO:tts_util:Successfully generated audio: ./audio_outputs/audio_chunks/20251004_The_Adventure_of_the_Hollow_Cane/159_d0901f2c.wav\n",
      "INFO:tts_util:Generating audio for chunk 162_3de814cf, attempt 1\n"
     ]
    },
    {
     "name": "stdout",
     "output_type": "stream",
     "text": [
      "✓ Processed chunk 159: ./audio_outputs/audio_chunks/20251004_The_Adventure_of_the_Hollow_Cane/159_d0901f2c.wav\n"
     ]
    },
    {
     "name": "stderr",
     "output_type": "stream",
     "text": [
      "INFO:tts_util:Successfully generated audio: ./audio_outputs/audio_chunks/20251004_The_Adventure_of_the_Hollow_Cane/160_b29a7c67.wav\n",
      "INFO:tts_util:Generating audio for chunk 163_e4dea59f, attempt 1\n"
     ]
    },
    {
     "name": "stdout",
     "output_type": "stream",
     "text": [
      "✓ Processed chunk 160: ./audio_outputs/audio_chunks/20251004_The_Adventure_of_the_Hollow_Cane/160_b29a7c67.wav\n"
     ]
    },
    {
     "name": "stderr",
     "output_type": "stream",
     "text": [
      "INFO:tts_util:Successfully generated audio: ./audio_outputs/audio_chunks/20251004_The_Adventure_of_the_Hollow_Cane/156_064e69d2.wav\n",
      "INFO:tts_util:Generating audio for chunk 164_40c799ea, attempt 1\n"
     ]
    },
    {
     "name": "stdout",
     "output_type": "stream",
     "text": [
      "✓ Processed chunk 156: ./audio_outputs/audio_chunks/20251004_The_Adventure_of_the_Hollow_Cane/156_064e69d2.wav\n"
     ]
    },
    {
     "name": "stderr",
     "output_type": "stream",
     "text": [
      "INFO:tts_util:Successfully generated audio: ./audio_outputs/audio_chunks/20251004_The_Adventure_of_the_Hollow_Cane/163_e4dea59f.wav\n",
      "INFO:tts_util:Generating audio for chunk 165_60f84a71, attempt 1\n"
     ]
    },
    {
     "name": "stdout",
     "output_type": "stream",
     "text": [
      "✓ Processed chunk 163: ./audio_outputs/audio_chunks/20251004_The_Adventure_of_the_Hollow_Cane/163_e4dea59f.wav\n"
     ]
    },
    {
     "name": "stderr",
     "output_type": "stream",
     "text": [
      "INFO:tts_util:Successfully generated audio: ./audio_outputs/audio_chunks/20251004_The_Adventure_of_the_Hollow_Cane/161_d80ff8ce.wav\n",
      "INFO:tts_util:Generating audio for chunk 166_dc9192bd, attempt 1\n"
     ]
    },
    {
     "name": "stdout",
     "output_type": "stream",
     "text": [
      "✓ Processed chunk 161: ./audio_outputs/audio_chunks/20251004_The_Adventure_of_the_Hollow_Cane/161_d80ff8ce.wav\n"
     ]
    },
    {
     "name": "stderr",
     "output_type": "stream",
     "text": [
      "INFO:tts_util:Successfully generated audio: ./audio_outputs/audio_chunks/20251004_The_Adventure_of_the_Hollow_Cane/164_40c799ea.wav\n",
      "INFO:tts_util:Generating audio for chunk 167_1eda044d, attempt 1\n",
      "INFO:tts_util:Successfully generated audio: ./audio_outputs/audio_chunks/20251004_The_Adventure_of_the_Hollow_Cane/165_60f84a71.wav\n",
      "INFO:tts_util:Generating audio for chunk 168_9f4caf7f, attempt 1\n"
     ]
    },
    {
     "name": "stdout",
     "output_type": "stream",
     "text": [
      "✓ Processed chunk 164: ./audio_outputs/audio_chunks/20251004_The_Adventure_of_the_Hollow_Cane/164_40c799ea.wav\n",
      "✓ Processed chunk 165: ./audio_outputs/audio_chunks/20251004_The_Adventure_of_the_Hollow_Cane/165_60f84a71.wav\n"
     ]
    },
    {
     "name": "stderr",
     "output_type": "stream",
     "text": [
      "INFO:tts_util:Successfully generated audio: ./audio_outputs/audio_chunks/20251004_The_Adventure_of_the_Hollow_Cane/162_3de814cf.wav\n",
      "INFO:tts_util:Generating audio for chunk 169_dedf476c, attempt 1\n"
     ]
    },
    {
     "name": "stdout",
     "output_type": "stream",
     "text": [
      "✓ Processed chunk 162: ./audio_outputs/audio_chunks/20251004_The_Adventure_of_the_Hollow_Cane/162_3de814cf.wav\n"
     ]
    },
    {
     "name": "stderr",
     "output_type": "stream",
     "text": [
      "INFO:tts_util:Successfully generated audio: ./audio_outputs/audio_chunks/20251004_The_Adventure_of_the_Hollow_Cane/166_dc9192bd.wav\n",
      "INFO:tts_util:Generating audio for chunk 170_0c21d736, attempt 1\n",
      "INFO:tts_util:Successfully generated audio: ./audio_outputs/audio_chunks/20251004_The_Adventure_of_the_Hollow_Cane/158_2b3169ba.wav\n",
      "INFO:tts_util:Generating audio for chunk 171_53509d5d, attempt 1\n"
     ]
    },
    {
     "name": "stdout",
     "output_type": "stream",
     "text": [
      "✓ Processed chunk 166: ./audio_outputs/audio_chunks/20251004_The_Adventure_of_the_Hollow_Cane/166_dc9192bd.wav\n",
      "✓ Processed chunk 158: ./audio_outputs/audio_chunks/20251004_The_Adventure_of_the_Hollow_Cane/158_2b3169ba.wav\n"
     ]
    },
    {
     "name": "stderr",
     "output_type": "stream",
     "text": [
      "INFO:tts_util:Successfully generated audio: ./audio_outputs/audio_chunks/20251004_The_Adventure_of_the_Hollow_Cane/171_53509d5d.wav\n",
      "INFO:tts_util:Generating audio for chunk 172_8863ea64, attempt 1\n"
     ]
    },
    {
     "name": "stdout",
     "output_type": "stream",
     "text": [
      "✓ Processed chunk 171: ./audio_outputs/audio_chunks/20251004_The_Adventure_of_the_Hollow_Cane/171_53509d5d.wav\n"
     ]
    },
    {
     "name": "stderr",
     "output_type": "stream",
     "text": [
      "INFO:tts_util:Successfully generated audio: ./audio_outputs/audio_chunks/20251004_The_Adventure_of_the_Hollow_Cane/170_0c21d736.wav\n",
      "INFO:tts_util:Generating audio for chunk 173_f741b014, attempt 1\n",
      "INFO:tts_util:Successfully generated audio: ./audio_outputs/audio_chunks/20251004_The_Adventure_of_the_Hollow_Cane/169_dedf476c.wav\n",
      "INFO:tts_util:Generating audio for chunk 174_3600f7b7, attempt 1\n"
     ]
    },
    {
     "name": "stdout",
     "output_type": "stream",
     "text": [
      "✓ Processed chunk 170: ./audio_outputs/audio_chunks/20251004_The_Adventure_of_the_Hollow_Cane/170_0c21d736.wav\n",
      "✓ Processed chunk 169: ./audio_outputs/audio_chunks/20251004_The_Adventure_of_the_Hollow_Cane/169_dedf476c.wav\n"
     ]
    },
    {
     "name": "stderr",
     "output_type": "stream",
     "text": [
      "INFO:tts_util:Successfully generated audio: ./audio_outputs/audio_chunks/20251004_The_Adventure_of_the_Hollow_Cane/167_1eda044d.wav\n",
      "INFO:tts_util:Generating audio for chunk 175_af5ef8cc, attempt 1\n"
     ]
    },
    {
     "name": "stdout",
     "output_type": "stream",
     "text": [
      "✓ Processed chunk 167: ./audio_outputs/audio_chunks/20251004_The_Adventure_of_the_Hollow_Cane/167_1eda044d.wav\n"
     ]
    },
    {
     "name": "stderr",
     "output_type": "stream",
     "text": [
      "INFO:tts_util:Successfully generated audio: ./audio_outputs/audio_chunks/20251004_The_Adventure_of_the_Hollow_Cane/168_9f4caf7f.wav\n",
      "INFO:tts_util:Generating audio for chunk 176_38e76379, attempt 1\n"
     ]
    },
    {
     "name": "stdout",
     "output_type": "stream",
     "text": [
      "✓ Processed chunk 168: ./audio_outputs/audio_chunks/20251004_The_Adventure_of_the_Hollow_Cane/168_9f4caf7f.wav\n"
     ]
    },
    {
     "name": "stderr",
     "output_type": "stream",
     "text": [
      "INFO:tts_util:Successfully generated audio: ./audio_outputs/audio_chunks/20251004_The_Adventure_of_the_Hollow_Cane/175_af5ef8cc.wav\n",
      "INFO:tts_util:Generating audio for chunk 177_8abad660, attempt 1\n"
     ]
    },
    {
     "name": "stdout",
     "output_type": "stream",
     "text": [
      "✓ Processed chunk 175: ./audio_outputs/audio_chunks/20251004_The_Adventure_of_the_Hollow_Cane/175_af5ef8cc.wav\n"
     ]
    },
    {
     "name": "stderr",
     "output_type": "stream",
     "text": [
      "INFO:tts_util:Successfully generated audio: ./audio_outputs/audio_chunks/20251004_The_Adventure_of_the_Hollow_Cane/172_8863ea64.wav\n",
      "INFO:tts_util:Generating audio for chunk 178_30840549, attempt 1\n"
     ]
    },
    {
     "name": "stdout",
     "output_type": "stream",
     "text": [
      "✓ Processed chunk 172: ./audio_outputs/audio_chunks/20251004_The_Adventure_of_the_Hollow_Cane/172_8863ea64.wav\n"
     ]
    },
    {
     "name": "stderr",
     "output_type": "stream",
     "text": [
      "INFO:tts_util:Successfully generated audio: ./audio_outputs/audio_chunks/20251004_The_Adventure_of_the_Hollow_Cane/176_38e76379.wav\n",
      "INFO:tts_util:Generating audio for chunk 179_5af7e125, attempt 1\n"
     ]
    },
    {
     "name": "stdout",
     "output_type": "stream",
     "text": [
      "✓ Processed chunk 176: ./audio_outputs/audio_chunks/20251004_The_Adventure_of_the_Hollow_Cane/176_38e76379.wav\n"
     ]
    },
    {
     "name": "stderr",
     "output_type": "stream",
     "text": [
      "INFO:tts_util:Successfully generated audio: ./audio_outputs/audio_chunks/20251004_The_Adventure_of_the_Hollow_Cane/177_8abad660.wav\n"
     ]
    },
    {
     "name": "stdout",
     "output_type": "stream",
     "text": [
      "✓ Processed chunk 177: ./audio_outputs/audio_chunks/20251004_The_Adventure_of_the_Hollow_Cane/177_8abad660.wav\n"
     ]
    },
    {
     "name": "stderr",
     "output_type": "stream",
     "text": [
      "INFO:tts_util:Successfully generated audio: ./audio_outputs/audio_chunks/20251004_The_Adventure_of_the_Hollow_Cane/174_3600f7b7.wav\n"
     ]
    },
    {
     "name": "stdout",
     "output_type": "stream",
     "text": [
      "✓ Processed chunk 174: ./audio_outputs/audio_chunks/20251004_The_Adventure_of_the_Hollow_Cane/174_3600f7b7.wav\n"
     ]
    },
    {
     "name": "stderr",
     "output_type": "stream",
     "text": [
      "INFO:tts_util:Successfully generated audio: ./audio_outputs/audio_chunks/20251004_The_Adventure_of_the_Hollow_Cane/178_30840549.wav\n"
     ]
    },
    {
     "name": "stdout",
     "output_type": "stream",
     "text": [
      "✓ Processed chunk 178: ./audio_outputs/audio_chunks/20251004_The_Adventure_of_the_Hollow_Cane/178_30840549.wav\n"
     ]
    },
    {
     "name": "stderr",
     "output_type": "stream",
     "text": [
      "INFO:tts_util:Successfully generated audio: ./audio_outputs/audio_chunks/20251004_The_Adventure_of_the_Hollow_Cane/173_f741b014.wav\n"
     ]
    },
    {
     "name": "stdout",
     "output_type": "stream",
     "text": [
      "✓ Processed chunk 173: ./audio_outputs/audio_chunks/20251004_The_Adventure_of_the_Hollow_Cane/173_f741b014.wav\n"
     ]
    },
    {
     "name": "stderr",
     "output_type": "stream",
     "text": [
      "INFO:tts_util:Successfully generated audio: ./audio_outputs/audio_chunks/20251004_The_Adventure_of_the_Hollow_Cane/179_5af7e125.wav\n"
     ]
    },
    {
     "name": "stdout",
     "output_type": "stream",
     "text": [
      "✓ Processed chunk 179: ./audio_outputs/audio_chunks/20251004_The_Adventure_of_the_Hollow_Cane/179_5af7e125.wav\n",
      "\n",
      "✓ Audio generation completed!\n",
      "  Successfully processed: 180\n",
      "  Failed: 0\n",
      "  Previously completed: 0\n",
      "  Total chunks: 180\n",
      "\n",
      "✓ Audio pipeline completed!\n",
      "  Audio files saved to: ./audio_outputs/audio_chunks/20251004_The_Adventure_of_the_Hollow_Cane\n",
      "  Total processed chunks: 180\n",
      "\n",
      "=== STEP 3: Stitching Audio Chunks ===\n",
      "Stitching 180 audio chunks for job 68e0c9e2356de3c49a902ead\n",
      "Gap between chunks: 0.1 seconds\n",
      "Running FFmpeg to stitch audio files...\n",
      "\n",
      "✓ Audio stitching completed!\n",
      "  Processed chunks: 180/180\n",
      "  Final audio file size: 130.2 MB\n",
      "  Final audio saved to: ./audio_outputs/final_audio/20251004_The_Adventure_of_the_Hollow_Cane.wav\n",
      "\n",
      "🎉 Complete audio generation pipeline finished!\n",
      "  Final audio file: ./audio_outputs/final_audio/20251004_The_Adventure_of_the_Hollow_Cane.wav\n"
     ]
    }
   ],
   "source": [
    "import os\n",
    "from dotenv import load_dotenv\n",
    "from db_utils import DatabaseManager\n",
    "\n",
    "if __name__ == \"__main__\":\n",
    "    load_dotenv()\n",
    "    \n",
    "    # Initialize database manager\n",
    "    db_manager = DatabaseManager()\n",
    "    \n",
    "    # Set the job ID (replace with actual job ID from story generation)\n",
    "    job_id = \"68e0c9e2356de3c49a902ead\"\n",
    "    \n",
    "    # Step 1: Create and save audio chunks for the job\n",
    "    print(\"=== STEP 1: Creating Audio Chunks ===\")\n",
    "    audio_chunks = saveChunksForJob(db_manager, job_id)\n",
    "    \n",
    "    print(f\"Processed {len(audio_chunks)} chunks:\")\n",
    "    for i, chunk in enumerate(audio_chunks):\n",
    "        print(f\"  Chunk {i+1}: ID={chunk.chunkId}, Length={len(chunk.text)} chars\")\n",
    "    \n",
    "    # Step 2: Convert text chunks to audio files\n",
    "    print(\"\\n=== STEP 2: Converting Chunks to Audio ===\")\n",
    "    processed_chunks, folder_path = convertTextChunksToAudio(job_id, db_manager)\n",
    "    \n",
    "    print(f\"\\n✓ Audio pipeline completed!\")\n",
    "    print(f\"  Audio files saved to: {folder_path}\")\n",
    "    print(f\"  Total processed chunks: {len(processed_chunks)}\")\n",
    "    \n",
    "    # Step 3: Stitch audio chunks into final audio file\n",
    "    print(\"\\n=== STEP 3: Stitching Audio Chunks ===\")\n",
    "    final_audio_path = stitchAudioChunks(job_id, folder_path, db_manager, gap_seconds= 0.1)\n",
    "    \n",
    "    print(f\"\\n🎉 Complete audio generation pipeline finished!\")\n",
    "    print(f\"  Final audio file: {final_audio_path}\")\n",
    "    \n",
    "    # Close DB connection when done\n",
    "    db_manager.close()"
   ]
  },
  {
   "cell_type": "code",
   "execution_count": null,
   "id": "83e8f628",
   "metadata": {},
   "outputs": [],
   "source": []
  }
 ],
 "metadata": {
  "kernelspec": {
   "display_name": "venv",
   "language": "python",
   "name": "python3"
  },
  "language_info": {
   "codemirror_mode": {
    "name": "ipython",
    "version": 3
   },
   "file_extension": ".py",
   "mimetype": "text/x-python",
   "name": "python",
   "nbconvert_exporter": "python",
   "pygments_lexer": "ipython3",
   "version": "3.13.5"
  }
 },
 "nbformat": 4,
 "nbformat_minor": 5
}
